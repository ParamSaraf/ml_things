{
  "nbformat": 4,
  "nbformat_minor": 0,
  "metadata": {
    "colab": {
      "name": "pytorchtext.ipynb",
      "provenance": [],
      "collapsed_sections": [
        "qSuUpkj1UuUa"
      ],
      "toc_visible": true,
      "authorship_tag": "ABX9TyPo11ThkRGyvDnABBBLZ335"
    },
    "kernelspec": {
      "name": "python3",
      "display_name": "Python 3"
    },
    "widgets": {
      "application/vnd.jupyter.widget-state+json": {
        "dad0fde1bb234e199ecb90fa8d7121f7": {
          "model_module": "@jupyter-widgets/controls",
          "model_name": "HBoxModel",
          "state": {
            "_view_name": "HBoxView",
            "_dom_classes": [],
            "_model_name": "HBoxModel",
            "_view_module": "@jupyter-widgets/controls",
            "_model_module_version": "1.5.0",
            "_view_count": null,
            "_view_module_version": "1.5.0",
            "box_style": "",
            "layout": "IPY_MODEL_b744182028cb49b8b9487b223154c17f",
            "_model_module": "@jupyter-widgets/controls",
            "children": [
              "IPY_MODEL_4b37a43a1a2a484e81bd846528d0e869",
              "IPY_MODEL_56c403126c184ab285e8f8c32913adb3"
            ]
          }
        },
        "b744182028cb49b8b9487b223154c17f": {
          "model_module": "@jupyter-widgets/base",
          "model_name": "LayoutModel",
          "state": {
            "_view_name": "LayoutView",
            "grid_template_rows": null,
            "right": null,
            "justify_content": null,
            "_view_module": "@jupyter-widgets/base",
            "overflow": null,
            "_model_module_version": "1.2.0",
            "_view_count": null,
            "flex_flow": null,
            "width": null,
            "min_width": null,
            "border": null,
            "align_items": null,
            "bottom": null,
            "_model_module": "@jupyter-widgets/base",
            "top": null,
            "grid_column": null,
            "overflow_y": null,
            "overflow_x": null,
            "grid_auto_flow": null,
            "grid_area": null,
            "grid_template_columns": null,
            "flex": null,
            "_model_name": "LayoutModel",
            "justify_items": null,
            "grid_row": null,
            "max_height": null,
            "align_content": null,
            "visibility": null,
            "align_self": null,
            "height": null,
            "min_height": null,
            "padding": null,
            "grid_auto_rows": null,
            "grid_gap": null,
            "max_width": null,
            "order": null,
            "_view_module_version": "1.2.0",
            "grid_template_areas": null,
            "object_position": null,
            "object_fit": null,
            "grid_auto_columns": null,
            "margin": null,
            "display": null,
            "left": null
          }
        },
        "4b37a43a1a2a484e81bd846528d0e869": {
          "model_module": "@jupyter-widgets/controls",
          "model_name": "FloatProgressModel",
          "state": {
            "_view_name": "ProgressView",
            "style": "IPY_MODEL_463174bcce1d426f8c782a73be06542f",
            "_dom_classes": [],
            "description": "pos Files: 100%",
            "_model_name": "FloatProgressModel",
            "bar_style": "success",
            "max": 12500,
            "_view_module": "@jupyter-widgets/controls",
            "_model_module_version": "1.5.0",
            "value": 12500,
            "_view_count": null,
            "_view_module_version": "1.5.0",
            "orientation": "horizontal",
            "min": 0,
            "description_tooltip": null,
            "_model_module": "@jupyter-widgets/controls",
            "layout": "IPY_MODEL_2cf03d65545d4ff38ce1529d8830f6e1"
          }
        },
        "56c403126c184ab285e8f8c32913adb3": {
          "model_module": "@jupyter-widgets/controls",
          "model_name": "HTMLModel",
          "state": {
            "_view_name": "HTMLView",
            "style": "IPY_MODEL_e66c98f8caf94f23828823a8a8e1a3d9",
            "_dom_classes": [],
            "description": "",
            "_model_name": "HTMLModel",
            "placeholder": "​",
            "_view_module": "@jupyter-widgets/controls",
            "_model_module_version": "1.5.0",
            "value": " 12500/12500 [14:32&lt;00:00, 14.33it/s]",
            "_view_count": null,
            "_view_module_version": "1.5.0",
            "description_tooltip": null,
            "_model_module": "@jupyter-widgets/controls",
            "layout": "IPY_MODEL_21eab334c3d6493b8529d8a748f07985"
          }
        },
        "463174bcce1d426f8c782a73be06542f": {
          "model_module": "@jupyter-widgets/controls",
          "model_name": "ProgressStyleModel",
          "state": {
            "_view_name": "StyleView",
            "_model_name": "ProgressStyleModel",
            "description_width": "initial",
            "_view_module": "@jupyter-widgets/base",
            "_model_module_version": "1.5.0",
            "_view_count": null,
            "_view_module_version": "1.2.0",
            "bar_color": null,
            "_model_module": "@jupyter-widgets/controls"
          }
        },
        "2cf03d65545d4ff38ce1529d8830f6e1": {
          "model_module": "@jupyter-widgets/base",
          "model_name": "LayoutModel",
          "state": {
            "_view_name": "LayoutView",
            "grid_template_rows": null,
            "right": null,
            "justify_content": null,
            "_view_module": "@jupyter-widgets/base",
            "overflow": null,
            "_model_module_version": "1.2.0",
            "_view_count": null,
            "flex_flow": null,
            "width": null,
            "min_width": null,
            "border": null,
            "align_items": null,
            "bottom": null,
            "_model_module": "@jupyter-widgets/base",
            "top": null,
            "grid_column": null,
            "overflow_y": null,
            "overflow_x": null,
            "grid_auto_flow": null,
            "grid_area": null,
            "grid_template_columns": null,
            "flex": null,
            "_model_name": "LayoutModel",
            "justify_items": null,
            "grid_row": null,
            "max_height": null,
            "align_content": null,
            "visibility": null,
            "align_self": null,
            "height": null,
            "min_height": null,
            "padding": null,
            "grid_auto_rows": null,
            "grid_gap": null,
            "max_width": null,
            "order": null,
            "_view_module_version": "1.2.0",
            "grid_template_areas": null,
            "object_position": null,
            "object_fit": null,
            "grid_auto_columns": null,
            "margin": null,
            "display": null,
            "left": null
          }
        },
        "e66c98f8caf94f23828823a8a8e1a3d9": {
          "model_module": "@jupyter-widgets/controls",
          "model_name": "DescriptionStyleModel",
          "state": {
            "_view_name": "StyleView",
            "_model_name": "DescriptionStyleModel",
            "description_width": "",
            "_view_module": "@jupyter-widgets/base",
            "_model_module_version": "1.5.0",
            "_view_count": null,
            "_view_module_version": "1.2.0",
            "_model_module": "@jupyter-widgets/controls"
          }
        },
        "21eab334c3d6493b8529d8a748f07985": {
          "model_module": "@jupyter-widgets/base",
          "model_name": "LayoutModel",
          "state": {
            "_view_name": "LayoutView",
            "grid_template_rows": null,
            "right": null,
            "justify_content": null,
            "_view_module": "@jupyter-widgets/base",
            "overflow": null,
            "_model_module_version": "1.2.0",
            "_view_count": null,
            "flex_flow": null,
            "width": null,
            "min_width": null,
            "border": null,
            "align_items": null,
            "bottom": null,
            "_model_module": "@jupyter-widgets/base",
            "top": null,
            "grid_column": null,
            "overflow_y": null,
            "overflow_x": null,
            "grid_auto_flow": null,
            "grid_area": null,
            "grid_template_columns": null,
            "flex": null,
            "_model_name": "LayoutModel",
            "justify_items": null,
            "grid_row": null,
            "max_height": null,
            "align_content": null,
            "visibility": null,
            "align_self": null,
            "height": null,
            "min_height": null,
            "padding": null,
            "grid_auto_rows": null,
            "grid_gap": null,
            "max_width": null,
            "order": null,
            "_view_module_version": "1.2.0",
            "grid_template_areas": null,
            "object_position": null,
            "object_fit": null,
            "grid_auto_columns": null,
            "margin": null,
            "display": null,
            "left": null
          }
        },
        "30febe7dc42c4f6b83739a431e30c270": {
          "model_module": "@jupyter-widgets/controls",
          "model_name": "HBoxModel",
          "state": {
            "_view_name": "HBoxView",
            "_dom_classes": [],
            "_model_name": "HBoxModel",
            "_view_module": "@jupyter-widgets/controls",
            "_model_module_version": "1.5.0",
            "_view_count": null,
            "_view_module_version": "1.5.0",
            "box_style": "",
            "layout": "IPY_MODEL_cd437d138e494933ba6d10a30e0ed67a",
            "_model_module": "@jupyter-widgets/controls",
            "children": [
              "IPY_MODEL_bdbd4b6d1fb44512b65122ac4796158b",
              "IPY_MODEL_e5023ddea8cc4c98ba36b2e699679e06"
            ]
          }
        },
        "cd437d138e494933ba6d10a30e0ed67a": {
          "model_module": "@jupyter-widgets/base",
          "model_name": "LayoutModel",
          "state": {
            "_view_name": "LayoutView",
            "grid_template_rows": null,
            "right": null,
            "justify_content": null,
            "_view_module": "@jupyter-widgets/base",
            "overflow": null,
            "_model_module_version": "1.2.0",
            "_view_count": null,
            "flex_flow": null,
            "width": null,
            "min_width": null,
            "border": null,
            "align_items": null,
            "bottom": null,
            "_model_module": "@jupyter-widgets/base",
            "top": null,
            "grid_column": null,
            "overflow_y": null,
            "overflow_x": null,
            "grid_auto_flow": null,
            "grid_area": null,
            "grid_template_columns": null,
            "flex": null,
            "_model_name": "LayoutModel",
            "justify_items": null,
            "grid_row": null,
            "max_height": null,
            "align_content": null,
            "visibility": null,
            "align_self": null,
            "height": null,
            "min_height": null,
            "padding": null,
            "grid_auto_rows": null,
            "grid_gap": null,
            "max_width": null,
            "order": null,
            "_view_module_version": "1.2.0",
            "grid_template_areas": null,
            "object_position": null,
            "object_fit": null,
            "grid_auto_columns": null,
            "margin": null,
            "display": null,
            "left": null
          }
        },
        "bdbd4b6d1fb44512b65122ac4796158b": {
          "model_module": "@jupyter-widgets/controls",
          "model_name": "FloatProgressModel",
          "state": {
            "_view_name": "ProgressView",
            "style": "IPY_MODEL_66c74197bf53429099167c5805bd8dfb",
            "_dom_classes": [],
            "description": "neg Files: 100%",
            "_model_name": "FloatProgressModel",
            "bar_style": "success",
            "max": 12500,
            "_view_module": "@jupyter-widgets/controls",
            "_model_module_version": "1.5.0",
            "value": 12500,
            "_view_count": null,
            "_view_module_version": "1.5.0",
            "orientation": "horizontal",
            "min": 0,
            "description_tooltip": null,
            "_model_module": "@jupyter-widgets/controls",
            "layout": "IPY_MODEL_e7b2214d33fd48989131f7050cb8f34f"
          }
        },
        "e5023ddea8cc4c98ba36b2e699679e06": {
          "model_module": "@jupyter-widgets/controls",
          "model_name": "HTMLModel",
          "state": {
            "_view_name": "HTMLView",
            "style": "IPY_MODEL_1c59c6b29340469587c2e910dcaf50c6",
            "_dom_classes": [],
            "description": "",
            "_model_name": "HTMLModel",
            "placeholder": "​",
            "_view_module": "@jupyter-widgets/controls",
            "_model_module_version": "1.5.0",
            "value": " 12500/12500 [14:18&lt;00:00, 14.55it/s]",
            "_view_count": null,
            "_view_module_version": "1.5.0",
            "description_tooltip": null,
            "_model_module": "@jupyter-widgets/controls",
            "layout": "IPY_MODEL_e37cf4e14300482581f9d38947933821"
          }
        },
        "66c74197bf53429099167c5805bd8dfb": {
          "model_module": "@jupyter-widgets/controls",
          "model_name": "ProgressStyleModel",
          "state": {
            "_view_name": "StyleView",
            "_model_name": "ProgressStyleModel",
            "description_width": "initial",
            "_view_module": "@jupyter-widgets/base",
            "_model_module_version": "1.5.0",
            "_view_count": null,
            "_view_module_version": "1.2.0",
            "bar_color": null,
            "_model_module": "@jupyter-widgets/controls"
          }
        },
        "e7b2214d33fd48989131f7050cb8f34f": {
          "model_module": "@jupyter-widgets/base",
          "model_name": "LayoutModel",
          "state": {
            "_view_name": "LayoutView",
            "grid_template_rows": null,
            "right": null,
            "justify_content": null,
            "_view_module": "@jupyter-widgets/base",
            "overflow": null,
            "_model_module_version": "1.2.0",
            "_view_count": null,
            "flex_flow": null,
            "width": null,
            "min_width": null,
            "border": null,
            "align_items": null,
            "bottom": null,
            "_model_module": "@jupyter-widgets/base",
            "top": null,
            "grid_column": null,
            "overflow_y": null,
            "overflow_x": null,
            "grid_auto_flow": null,
            "grid_area": null,
            "grid_template_columns": null,
            "flex": null,
            "_model_name": "LayoutModel",
            "justify_items": null,
            "grid_row": null,
            "max_height": null,
            "align_content": null,
            "visibility": null,
            "align_self": null,
            "height": null,
            "min_height": null,
            "padding": null,
            "grid_auto_rows": null,
            "grid_gap": null,
            "max_width": null,
            "order": null,
            "_view_module_version": "1.2.0",
            "grid_template_areas": null,
            "object_position": null,
            "object_fit": null,
            "grid_auto_columns": null,
            "margin": null,
            "display": null,
            "left": null
          }
        },
        "1c59c6b29340469587c2e910dcaf50c6": {
          "model_module": "@jupyter-widgets/controls",
          "model_name": "DescriptionStyleModel",
          "state": {
            "_view_name": "StyleView",
            "_model_name": "DescriptionStyleModel",
            "description_width": "",
            "_view_module": "@jupyter-widgets/base",
            "_model_module_version": "1.5.0",
            "_view_count": null,
            "_view_module_version": "1.2.0",
            "_model_module": "@jupyter-widgets/controls"
          }
        },
        "e37cf4e14300482581f9d38947933821": {
          "model_module": "@jupyter-widgets/base",
          "model_name": "LayoutModel",
          "state": {
            "_view_name": "LayoutView",
            "grid_template_rows": null,
            "right": null,
            "justify_content": null,
            "_view_module": "@jupyter-widgets/base",
            "overflow": null,
            "_model_module_version": "1.2.0",
            "_view_count": null,
            "flex_flow": null,
            "width": null,
            "min_width": null,
            "border": null,
            "align_items": null,
            "bottom": null,
            "_model_module": "@jupyter-widgets/base",
            "top": null,
            "grid_column": null,
            "overflow_y": null,
            "overflow_x": null,
            "grid_auto_flow": null,
            "grid_area": null,
            "grid_template_columns": null,
            "flex": null,
            "_model_name": "LayoutModel",
            "justify_items": null,
            "grid_row": null,
            "max_height": null,
            "align_content": null,
            "visibility": null,
            "align_self": null,
            "height": null,
            "min_height": null,
            "padding": null,
            "grid_auto_rows": null,
            "grid_gap": null,
            "max_width": null,
            "order": null,
            "_view_module_version": "1.2.0",
            "grid_template_areas": null,
            "object_position": null,
            "object_fit": null,
            "grid_auto_columns": null,
            "margin": null,
            "display": null,
            "left": null
          }
        },
        "1bf8f9f8bce640c1bebb18287571513f": {
          "model_module": "@jupyter-widgets/controls",
          "model_name": "HBoxModel",
          "state": {
            "_view_name": "HBoxView",
            "_dom_classes": [],
            "_model_name": "HBoxModel",
            "_view_module": "@jupyter-widgets/controls",
            "_model_module_version": "1.5.0",
            "_view_count": null,
            "_view_module_version": "1.5.0",
            "box_style": "",
            "layout": "IPY_MODEL_6e4c7b7b5a85429293ec6fcab2d7c9a8",
            "_model_module": "@jupyter-widgets/controls",
            "children": [
              "IPY_MODEL_1fed350aa59b4c7ea25df0f3e82a3067",
              "IPY_MODEL_ffde509700004f658d5d86fdc861c05e"
            ]
          }
        },
        "6e4c7b7b5a85429293ec6fcab2d7c9a8": {
          "model_module": "@jupyter-widgets/base",
          "model_name": "LayoutModel",
          "state": {
            "_view_name": "LayoutView",
            "grid_template_rows": null,
            "right": null,
            "justify_content": null,
            "_view_module": "@jupyter-widgets/base",
            "overflow": null,
            "_model_module_version": "1.2.0",
            "_view_count": null,
            "flex_flow": null,
            "width": null,
            "min_width": null,
            "border": null,
            "align_items": null,
            "bottom": null,
            "_model_module": "@jupyter-widgets/base",
            "top": null,
            "grid_column": null,
            "overflow_y": null,
            "overflow_x": null,
            "grid_auto_flow": null,
            "grid_area": null,
            "grid_template_columns": null,
            "flex": null,
            "_model_name": "LayoutModel",
            "justify_items": null,
            "grid_row": null,
            "max_height": null,
            "align_content": null,
            "visibility": null,
            "align_self": null,
            "height": null,
            "min_height": null,
            "padding": null,
            "grid_auto_rows": null,
            "grid_gap": null,
            "max_width": null,
            "order": null,
            "_view_module_version": "1.2.0",
            "grid_template_areas": null,
            "object_position": null,
            "object_fit": null,
            "grid_auto_columns": null,
            "margin": null,
            "display": null,
            "left": null
          }
        },
        "1fed350aa59b4c7ea25df0f3e82a3067": {
          "model_module": "@jupyter-widgets/controls",
          "model_name": "FloatProgressModel",
          "state": {
            "_view_name": "ProgressView",
            "style": "IPY_MODEL_93db5c1cd89f44ea9374efc63c069a9c",
            "_dom_classes": [],
            "description": "pos Files: 100%",
            "_model_name": "FloatProgressModel",
            "bar_style": "success",
            "max": 12500,
            "_view_module": "@jupyter-widgets/controls",
            "_model_module_version": "1.5.0",
            "value": 12500,
            "_view_count": null,
            "_view_module_version": "1.5.0",
            "orientation": "horizontal",
            "min": 0,
            "description_tooltip": null,
            "_model_module": "@jupyter-widgets/controls",
            "layout": "IPY_MODEL_9b684c37c06a47a1860a1ada542f7a66"
          }
        },
        "ffde509700004f658d5d86fdc861c05e": {
          "model_module": "@jupyter-widgets/controls",
          "model_name": "HTMLModel",
          "state": {
            "_view_name": "HTMLView",
            "style": "IPY_MODEL_7dcb325407834d97985ad48033279a61",
            "_dom_classes": [],
            "description": "",
            "_model_name": "HTMLModel",
            "placeholder": "​",
            "_view_module": "@jupyter-widgets/controls",
            "_model_module_version": "1.5.0",
            "value": " 12500/12500 [14:05&lt;00:00, 14.78it/s]",
            "_view_count": null,
            "_view_module_version": "1.5.0",
            "description_tooltip": null,
            "_model_module": "@jupyter-widgets/controls",
            "layout": "IPY_MODEL_825dc452fcbd492d83520b74f43a637a"
          }
        },
        "93db5c1cd89f44ea9374efc63c069a9c": {
          "model_module": "@jupyter-widgets/controls",
          "model_name": "ProgressStyleModel",
          "state": {
            "_view_name": "StyleView",
            "_model_name": "ProgressStyleModel",
            "description_width": "initial",
            "_view_module": "@jupyter-widgets/base",
            "_model_module_version": "1.5.0",
            "_view_count": null,
            "_view_module_version": "1.2.0",
            "bar_color": null,
            "_model_module": "@jupyter-widgets/controls"
          }
        },
        "9b684c37c06a47a1860a1ada542f7a66": {
          "model_module": "@jupyter-widgets/base",
          "model_name": "LayoutModel",
          "state": {
            "_view_name": "LayoutView",
            "grid_template_rows": null,
            "right": null,
            "justify_content": null,
            "_view_module": "@jupyter-widgets/base",
            "overflow": null,
            "_model_module_version": "1.2.0",
            "_view_count": null,
            "flex_flow": null,
            "width": null,
            "min_width": null,
            "border": null,
            "align_items": null,
            "bottom": null,
            "_model_module": "@jupyter-widgets/base",
            "top": null,
            "grid_column": null,
            "overflow_y": null,
            "overflow_x": null,
            "grid_auto_flow": null,
            "grid_area": null,
            "grid_template_columns": null,
            "flex": null,
            "_model_name": "LayoutModel",
            "justify_items": null,
            "grid_row": null,
            "max_height": null,
            "align_content": null,
            "visibility": null,
            "align_self": null,
            "height": null,
            "min_height": null,
            "padding": null,
            "grid_auto_rows": null,
            "grid_gap": null,
            "max_width": null,
            "order": null,
            "_view_module_version": "1.2.0",
            "grid_template_areas": null,
            "object_position": null,
            "object_fit": null,
            "grid_auto_columns": null,
            "margin": null,
            "display": null,
            "left": null
          }
        },
        "7dcb325407834d97985ad48033279a61": {
          "model_module": "@jupyter-widgets/controls",
          "model_name": "DescriptionStyleModel",
          "state": {
            "_view_name": "StyleView",
            "_model_name": "DescriptionStyleModel",
            "description_width": "",
            "_view_module": "@jupyter-widgets/base",
            "_model_module_version": "1.5.0",
            "_view_count": null,
            "_view_module_version": "1.2.0",
            "_model_module": "@jupyter-widgets/controls"
          }
        },
        "825dc452fcbd492d83520b74f43a637a": {
          "model_module": "@jupyter-widgets/base",
          "model_name": "LayoutModel",
          "state": {
            "_view_name": "LayoutView",
            "grid_template_rows": null,
            "right": null,
            "justify_content": null,
            "_view_module": "@jupyter-widgets/base",
            "overflow": null,
            "_model_module_version": "1.2.0",
            "_view_count": null,
            "flex_flow": null,
            "width": null,
            "min_width": null,
            "border": null,
            "align_items": null,
            "bottom": null,
            "_model_module": "@jupyter-widgets/base",
            "top": null,
            "grid_column": null,
            "overflow_y": null,
            "overflow_x": null,
            "grid_auto_flow": null,
            "grid_area": null,
            "grid_template_columns": null,
            "flex": null,
            "_model_name": "LayoutModel",
            "justify_items": null,
            "grid_row": null,
            "max_height": null,
            "align_content": null,
            "visibility": null,
            "align_self": null,
            "height": null,
            "min_height": null,
            "padding": null,
            "grid_auto_rows": null,
            "grid_gap": null,
            "max_width": null,
            "order": null,
            "_view_module_version": "1.2.0",
            "grid_template_areas": null,
            "object_position": null,
            "object_fit": null,
            "grid_auto_columns": null,
            "margin": null,
            "display": null,
            "left": null
          }
        },
        "5dedadf8a8164dc891262a15d1c449ae": {
          "model_module": "@jupyter-widgets/controls",
          "model_name": "HBoxModel",
          "state": {
            "_view_name": "HBoxView",
            "_dom_classes": [],
            "_model_name": "HBoxModel",
            "_view_module": "@jupyter-widgets/controls",
            "_model_module_version": "1.5.0",
            "_view_count": null,
            "_view_module_version": "1.5.0",
            "box_style": "",
            "layout": "IPY_MODEL_5255f81b15d64273a2516cef83f09a1f",
            "_model_module": "@jupyter-widgets/controls",
            "children": [
              "IPY_MODEL_3d1f93b24f5a4d25846a624981b388f9",
              "IPY_MODEL_580be97d9d4b40859ad2293b10d56998"
            ]
          }
        },
        "5255f81b15d64273a2516cef83f09a1f": {
          "model_module": "@jupyter-widgets/base",
          "model_name": "LayoutModel",
          "state": {
            "_view_name": "LayoutView",
            "grid_template_rows": null,
            "right": null,
            "justify_content": null,
            "_view_module": "@jupyter-widgets/base",
            "overflow": null,
            "_model_module_version": "1.2.0",
            "_view_count": null,
            "flex_flow": null,
            "width": null,
            "min_width": null,
            "border": null,
            "align_items": null,
            "bottom": null,
            "_model_module": "@jupyter-widgets/base",
            "top": null,
            "grid_column": null,
            "overflow_y": null,
            "overflow_x": null,
            "grid_auto_flow": null,
            "grid_area": null,
            "grid_template_columns": null,
            "flex": null,
            "_model_name": "LayoutModel",
            "justify_items": null,
            "grid_row": null,
            "max_height": null,
            "align_content": null,
            "visibility": null,
            "align_self": null,
            "height": null,
            "min_height": null,
            "padding": null,
            "grid_auto_rows": null,
            "grid_gap": null,
            "max_width": null,
            "order": null,
            "_view_module_version": "1.2.0",
            "grid_template_areas": null,
            "object_position": null,
            "object_fit": null,
            "grid_auto_columns": null,
            "margin": null,
            "display": null,
            "left": null
          }
        },
        "3d1f93b24f5a4d25846a624981b388f9": {
          "model_module": "@jupyter-widgets/controls",
          "model_name": "FloatProgressModel",
          "state": {
            "_view_name": "ProgressView",
            "style": "IPY_MODEL_45be9b36c2474d45a3d238a8f831b05f",
            "_dom_classes": [],
            "description": "neg Files: 100%",
            "_model_name": "FloatProgressModel",
            "bar_style": "success",
            "max": 12500,
            "_view_module": "@jupyter-widgets/controls",
            "_model_module_version": "1.5.0",
            "value": 12500,
            "_view_count": null,
            "_view_module_version": "1.5.0",
            "orientation": "horizontal",
            "min": 0,
            "description_tooltip": null,
            "_model_module": "@jupyter-widgets/controls",
            "layout": "IPY_MODEL_ff4c12f0396e489fa1803482ba46a95f"
          }
        },
        "580be97d9d4b40859ad2293b10d56998": {
          "model_module": "@jupyter-widgets/controls",
          "model_name": "HTMLModel",
          "state": {
            "_view_name": "HTMLView",
            "style": "IPY_MODEL_cf1451d6f5c14335baf75f351952ef05",
            "_dom_classes": [],
            "description": "",
            "_model_name": "HTMLModel",
            "placeholder": "​",
            "_view_module": "@jupyter-widgets/controls",
            "_model_module_version": "1.5.0",
            "value": " 12500/12500 [13:53&lt;00:00, 15.00it/s]",
            "_view_count": null,
            "_view_module_version": "1.5.0",
            "description_tooltip": null,
            "_model_module": "@jupyter-widgets/controls",
            "layout": "IPY_MODEL_851504272d754ca19dd932fce175cc1c"
          }
        },
        "45be9b36c2474d45a3d238a8f831b05f": {
          "model_module": "@jupyter-widgets/controls",
          "model_name": "ProgressStyleModel",
          "state": {
            "_view_name": "StyleView",
            "_model_name": "ProgressStyleModel",
            "description_width": "initial",
            "_view_module": "@jupyter-widgets/base",
            "_model_module_version": "1.5.0",
            "_view_count": null,
            "_view_module_version": "1.2.0",
            "bar_color": null,
            "_model_module": "@jupyter-widgets/controls"
          }
        },
        "ff4c12f0396e489fa1803482ba46a95f": {
          "model_module": "@jupyter-widgets/base",
          "model_name": "LayoutModel",
          "state": {
            "_view_name": "LayoutView",
            "grid_template_rows": null,
            "right": null,
            "justify_content": null,
            "_view_module": "@jupyter-widgets/base",
            "overflow": null,
            "_model_module_version": "1.2.0",
            "_view_count": null,
            "flex_flow": null,
            "width": null,
            "min_width": null,
            "border": null,
            "align_items": null,
            "bottom": null,
            "_model_module": "@jupyter-widgets/base",
            "top": null,
            "grid_column": null,
            "overflow_y": null,
            "overflow_x": null,
            "grid_auto_flow": null,
            "grid_area": null,
            "grid_template_columns": null,
            "flex": null,
            "_model_name": "LayoutModel",
            "justify_items": null,
            "grid_row": null,
            "max_height": null,
            "align_content": null,
            "visibility": null,
            "align_self": null,
            "height": null,
            "min_height": null,
            "padding": null,
            "grid_auto_rows": null,
            "grid_gap": null,
            "max_width": null,
            "order": null,
            "_view_module_version": "1.2.0",
            "grid_template_areas": null,
            "object_position": null,
            "object_fit": null,
            "grid_auto_columns": null,
            "margin": null,
            "display": null,
            "left": null
          }
        },
        "cf1451d6f5c14335baf75f351952ef05": {
          "model_module": "@jupyter-widgets/controls",
          "model_name": "DescriptionStyleModel",
          "state": {
            "_view_name": "StyleView",
            "_model_name": "DescriptionStyleModel",
            "description_width": "",
            "_view_module": "@jupyter-widgets/base",
            "_model_module_version": "1.5.0",
            "_view_count": null,
            "_view_module_version": "1.2.0",
            "_model_module": "@jupyter-widgets/controls"
          }
        },
        "851504272d754ca19dd932fce175cc1c": {
          "model_module": "@jupyter-widgets/base",
          "model_name": "LayoutModel",
          "state": {
            "_view_name": "LayoutView",
            "grid_template_rows": null,
            "right": null,
            "justify_content": null,
            "_view_module": "@jupyter-widgets/base",
            "overflow": null,
            "_model_module_version": "1.2.0",
            "_view_count": null,
            "flex_flow": null,
            "width": null,
            "min_width": null,
            "border": null,
            "align_items": null,
            "bottom": null,
            "_model_module": "@jupyter-widgets/base",
            "top": null,
            "grid_column": null,
            "overflow_y": null,
            "overflow_x": null,
            "grid_auto_flow": null,
            "grid_area": null,
            "grid_template_columns": null,
            "flex": null,
            "_model_name": "LayoutModel",
            "justify_items": null,
            "grid_row": null,
            "max_height": null,
            "align_content": null,
            "visibility": null,
            "align_self": null,
            "height": null,
            "min_height": null,
            "padding": null,
            "grid_auto_rows": null,
            "grid_gap": null,
            "max_width": null,
            "order": null,
            "_view_module_version": "1.2.0",
            "grid_template_areas": null,
            "object_position": null,
            "object_fit": null,
            "grid_auto_columns": null,
            "margin": null,
            "display": null,
            "left": null
          }
        },
        "da09e310129e4851a616f4bf5e964fbf": {
          "model_module": "@jupyter-widgets/controls",
          "model_name": "HBoxModel",
          "state": {
            "_view_name": "HBoxView",
            "_dom_classes": [],
            "_model_name": "HBoxModel",
            "_view_module": "@jupyter-widgets/controls",
            "_model_module_version": "1.5.0",
            "_view_count": null,
            "_view_module_version": "1.5.0",
            "box_style": "",
            "layout": "IPY_MODEL_ae72e62369234928a7dd35bd6a3b5ad8",
            "_model_module": "@jupyter-widgets/controls",
            "children": [
              "IPY_MODEL_8f43d50717784a4e8d94ad781c5ed347",
              "IPY_MODEL_9f0048d3c1234194a119cde8346a16a7"
            ]
          }
        },
        "ae72e62369234928a7dd35bd6a3b5ad8": {
          "model_module": "@jupyter-widgets/base",
          "model_name": "LayoutModel",
          "state": {
            "_view_name": "LayoutView",
            "grid_template_rows": null,
            "right": null,
            "justify_content": null,
            "_view_module": "@jupyter-widgets/base",
            "overflow": null,
            "_model_module_version": "1.2.0",
            "_view_count": null,
            "flex_flow": null,
            "width": null,
            "min_width": null,
            "border": null,
            "align_items": null,
            "bottom": null,
            "_model_module": "@jupyter-widgets/base",
            "top": null,
            "grid_column": null,
            "overflow_y": null,
            "overflow_x": null,
            "grid_auto_flow": null,
            "grid_area": null,
            "grid_template_columns": null,
            "flex": null,
            "_model_name": "LayoutModel",
            "justify_items": null,
            "grid_row": null,
            "max_height": null,
            "align_content": null,
            "visibility": null,
            "align_self": null,
            "height": null,
            "min_height": null,
            "padding": null,
            "grid_auto_rows": null,
            "grid_gap": null,
            "max_width": null,
            "order": null,
            "_view_module_version": "1.2.0",
            "grid_template_areas": null,
            "object_position": null,
            "object_fit": null,
            "grid_auto_columns": null,
            "margin": null,
            "display": null,
            "left": null
          }
        },
        "8f43d50717784a4e8d94ad781c5ed347": {
          "model_module": "@jupyter-widgets/controls",
          "model_name": "FloatProgressModel",
          "state": {
            "_view_name": "ProgressView",
            "style": "IPY_MODEL_e9b15e66116248ddb39e1bde4db47715",
            "_dom_classes": [],
            "description": "pos Files: 100%",
            "_model_name": "FloatProgressModel",
            "bar_style": "success",
            "max": 12500,
            "_view_module": "@jupyter-widgets/controls",
            "_model_module_version": "1.5.0",
            "value": 12500,
            "_view_count": null,
            "_view_module_version": "1.5.0",
            "orientation": "horizontal",
            "min": 0,
            "description_tooltip": null,
            "_model_module": "@jupyter-widgets/controls",
            "layout": "IPY_MODEL_dcc77a039e624a13bd0d338f8745cf73"
          }
        },
        "9f0048d3c1234194a119cde8346a16a7": {
          "model_module": "@jupyter-widgets/controls",
          "model_name": "HTMLModel",
          "state": {
            "_view_name": "HTMLView",
            "style": "IPY_MODEL_1face3ee08304f399779db8848234ddf",
            "_dom_classes": [],
            "description": "",
            "_model_name": "HTMLModel",
            "placeholder": "​",
            "_view_module": "@jupyter-widgets/controls",
            "_model_module_version": "1.5.0",
            "value": " 12500/12500 [00:39&lt;00:00, 315.19it/s]",
            "_view_count": null,
            "_view_module_version": "1.5.0",
            "description_tooltip": null,
            "_model_module": "@jupyter-widgets/controls",
            "layout": "IPY_MODEL_fa609bb4d84742e1916d4edf038a4360"
          }
        },
        "e9b15e66116248ddb39e1bde4db47715": {
          "model_module": "@jupyter-widgets/controls",
          "model_name": "ProgressStyleModel",
          "state": {
            "_view_name": "StyleView",
            "_model_name": "ProgressStyleModel",
            "description_width": "initial",
            "_view_module": "@jupyter-widgets/base",
            "_model_module_version": "1.5.0",
            "_view_count": null,
            "_view_module_version": "1.2.0",
            "bar_color": null,
            "_model_module": "@jupyter-widgets/controls"
          }
        },
        "dcc77a039e624a13bd0d338f8745cf73": {
          "model_module": "@jupyter-widgets/base",
          "model_name": "LayoutModel",
          "state": {
            "_view_name": "LayoutView",
            "grid_template_rows": null,
            "right": null,
            "justify_content": null,
            "_view_module": "@jupyter-widgets/base",
            "overflow": null,
            "_model_module_version": "1.2.0",
            "_view_count": null,
            "flex_flow": null,
            "width": null,
            "min_width": null,
            "border": null,
            "align_items": null,
            "bottom": null,
            "_model_module": "@jupyter-widgets/base",
            "top": null,
            "grid_column": null,
            "overflow_y": null,
            "overflow_x": null,
            "grid_auto_flow": null,
            "grid_area": null,
            "grid_template_columns": null,
            "flex": null,
            "_model_name": "LayoutModel",
            "justify_items": null,
            "grid_row": null,
            "max_height": null,
            "align_content": null,
            "visibility": null,
            "align_self": null,
            "height": null,
            "min_height": null,
            "padding": null,
            "grid_auto_rows": null,
            "grid_gap": null,
            "max_width": null,
            "order": null,
            "_view_module_version": "1.2.0",
            "grid_template_areas": null,
            "object_position": null,
            "object_fit": null,
            "grid_auto_columns": null,
            "margin": null,
            "display": null,
            "left": null
          }
        },
        "1face3ee08304f399779db8848234ddf": {
          "model_module": "@jupyter-widgets/controls",
          "model_name": "DescriptionStyleModel",
          "state": {
            "_view_name": "StyleView",
            "_model_name": "DescriptionStyleModel",
            "description_width": "",
            "_view_module": "@jupyter-widgets/base",
            "_model_module_version": "1.5.0",
            "_view_count": null,
            "_view_module_version": "1.2.0",
            "_model_module": "@jupyter-widgets/controls"
          }
        },
        "fa609bb4d84742e1916d4edf038a4360": {
          "model_module": "@jupyter-widgets/base",
          "model_name": "LayoutModel",
          "state": {
            "_view_name": "LayoutView",
            "grid_template_rows": null,
            "right": null,
            "justify_content": null,
            "_view_module": "@jupyter-widgets/base",
            "overflow": null,
            "_model_module_version": "1.2.0",
            "_view_count": null,
            "flex_flow": null,
            "width": null,
            "min_width": null,
            "border": null,
            "align_items": null,
            "bottom": null,
            "_model_module": "@jupyter-widgets/base",
            "top": null,
            "grid_column": null,
            "overflow_y": null,
            "overflow_x": null,
            "grid_auto_flow": null,
            "grid_area": null,
            "grid_template_columns": null,
            "flex": null,
            "_model_name": "LayoutModel",
            "justify_items": null,
            "grid_row": null,
            "max_height": null,
            "align_content": null,
            "visibility": null,
            "align_self": null,
            "height": null,
            "min_height": null,
            "padding": null,
            "grid_auto_rows": null,
            "grid_gap": null,
            "max_width": null,
            "order": null,
            "_view_module_version": "1.2.0",
            "grid_template_areas": null,
            "object_position": null,
            "object_fit": null,
            "grid_auto_columns": null,
            "margin": null,
            "display": null,
            "left": null
          }
        },
        "fce2d470c5904ea0af824659d3a62be1": {
          "model_module": "@jupyter-widgets/controls",
          "model_name": "HBoxModel",
          "state": {
            "_view_name": "HBoxView",
            "_dom_classes": [],
            "_model_name": "HBoxModel",
            "_view_module": "@jupyter-widgets/controls",
            "_model_module_version": "1.5.0",
            "_view_count": null,
            "_view_module_version": "1.5.0",
            "box_style": "",
            "layout": "IPY_MODEL_ba0eacfa389942c0be0682e0e2ec1a1a",
            "_model_module": "@jupyter-widgets/controls",
            "children": [
              "IPY_MODEL_53f7affef6a0470eb1a00ab92b7f32d6",
              "IPY_MODEL_4da5c0b42df44d98bd49caee01a4b13a"
            ]
          }
        },
        "ba0eacfa389942c0be0682e0e2ec1a1a": {
          "model_module": "@jupyter-widgets/base",
          "model_name": "LayoutModel",
          "state": {
            "_view_name": "LayoutView",
            "grid_template_rows": null,
            "right": null,
            "justify_content": null,
            "_view_module": "@jupyter-widgets/base",
            "overflow": null,
            "_model_module_version": "1.2.0",
            "_view_count": null,
            "flex_flow": null,
            "width": null,
            "min_width": null,
            "border": null,
            "align_items": null,
            "bottom": null,
            "_model_module": "@jupyter-widgets/base",
            "top": null,
            "grid_column": null,
            "overflow_y": null,
            "overflow_x": null,
            "grid_auto_flow": null,
            "grid_area": null,
            "grid_template_columns": null,
            "flex": null,
            "_model_name": "LayoutModel",
            "justify_items": null,
            "grid_row": null,
            "max_height": null,
            "align_content": null,
            "visibility": null,
            "align_self": null,
            "height": null,
            "min_height": null,
            "padding": null,
            "grid_auto_rows": null,
            "grid_gap": null,
            "max_width": null,
            "order": null,
            "_view_module_version": "1.2.0",
            "grid_template_areas": null,
            "object_position": null,
            "object_fit": null,
            "grid_auto_columns": null,
            "margin": null,
            "display": null,
            "left": null
          }
        },
        "53f7affef6a0470eb1a00ab92b7f32d6": {
          "model_module": "@jupyter-widgets/controls",
          "model_name": "FloatProgressModel",
          "state": {
            "_view_name": "ProgressView",
            "style": "IPY_MODEL_e547697e00e345b69e4f115f262859ee",
            "_dom_classes": [],
            "description": "neg Files: 100%",
            "_model_name": "FloatProgressModel",
            "bar_style": "success",
            "max": 12500,
            "_view_module": "@jupyter-widgets/controls",
            "_model_module_version": "1.5.0",
            "value": 12500,
            "_view_count": null,
            "_view_module_version": "1.5.0",
            "orientation": "horizontal",
            "min": 0,
            "description_tooltip": null,
            "_model_module": "@jupyter-widgets/controls",
            "layout": "IPY_MODEL_74e8ef5137d44038b4d7fc3b2b374a9d"
          }
        },
        "4da5c0b42df44d98bd49caee01a4b13a": {
          "model_module": "@jupyter-widgets/controls",
          "model_name": "HTMLModel",
          "state": {
            "_view_name": "HTMLView",
            "style": "IPY_MODEL_08992322ed48407b98dead3c437508fd",
            "_dom_classes": [],
            "description": "",
            "_model_name": "HTMLModel",
            "placeholder": "​",
            "_view_module": "@jupyter-widgets/controls",
            "_model_module_version": "1.5.0",
            "value": " 12500/12500 [00:26&lt;00:00, 467.47it/s]",
            "_view_count": null,
            "_view_module_version": "1.5.0",
            "description_tooltip": null,
            "_model_module": "@jupyter-widgets/controls",
            "layout": "IPY_MODEL_aa74337e6df7456689b806fec4a93f3d"
          }
        },
        "e547697e00e345b69e4f115f262859ee": {
          "model_module": "@jupyter-widgets/controls",
          "model_name": "ProgressStyleModel",
          "state": {
            "_view_name": "StyleView",
            "_model_name": "ProgressStyleModel",
            "description_width": "initial",
            "_view_module": "@jupyter-widgets/base",
            "_model_module_version": "1.5.0",
            "_view_count": null,
            "_view_module_version": "1.2.0",
            "bar_color": null,
            "_model_module": "@jupyter-widgets/controls"
          }
        },
        "74e8ef5137d44038b4d7fc3b2b374a9d": {
          "model_module": "@jupyter-widgets/base",
          "model_name": "LayoutModel",
          "state": {
            "_view_name": "LayoutView",
            "grid_template_rows": null,
            "right": null,
            "justify_content": null,
            "_view_module": "@jupyter-widgets/base",
            "overflow": null,
            "_model_module_version": "1.2.0",
            "_view_count": null,
            "flex_flow": null,
            "width": null,
            "min_width": null,
            "border": null,
            "align_items": null,
            "bottom": null,
            "_model_module": "@jupyter-widgets/base",
            "top": null,
            "grid_column": null,
            "overflow_y": null,
            "overflow_x": null,
            "grid_auto_flow": null,
            "grid_area": null,
            "grid_template_columns": null,
            "flex": null,
            "_model_name": "LayoutModel",
            "justify_items": null,
            "grid_row": null,
            "max_height": null,
            "align_content": null,
            "visibility": null,
            "align_self": null,
            "height": null,
            "min_height": null,
            "padding": null,
            "grid_auto_rows": null,
            "grid_gap": null,
            "max_width": null,
            "order": null,
            "_view_module_version": "1.2.0",
            "grid_template_areas": null,
            "object_position": null,
            "object_fit": null,
            "grid_auto_columns": null,
            "margin": null,
            "display": null,
            "left": null
          }
        },
        "08992322ed48407b98dead3c437508fd": {
          "model_module": "@jupyter-widgets/controls",
          "model_name": "DescriptionStyleModel",
          "state": {
            "_view_name": "StyleView",
            "_model_name": "DescriptionStyleModel",
            "description_width": "",
            "_view_module": "@jupyter-widgets/base",
            "_model_module_version": "1.5.0",
            "_view_count": null,
            "_view_module_version": "1.2.0",
            "_model_module": "@jupyter-widgets/controls"
          }
        },
        "aa74337e6df7456689b806fec4a93f3d": {
          "model_module": "@jupyter-widgets/base",
          "model_name": "LayoutModel",
          "state": {
            "_view_name": "LayoutView",
            "grid_template_rows": null,
            "right": null,
            "justify_content": null,
            "_view_module": "@jupyter-widgets/base",
            "overflow": null,
            "_model_module_version": "1.2.0",
            "_view_count": null,
            "flex_flow": null,
            "width": null,
            "min_width": null,
            "border": null,
            "align_items": null,
            "bottom": null,
            "_model_module": "@jupyter-widgets/base",
            "top": null,
            "grid_column": null,
            "overflow_y": null,
            "overflow_x": null,
            "grid_auto_flow": null,
            "grid_area": null,
            "grid_template_columns": null,
            "flex": null,
            "_model_name": "LayoutModel",
            "justify_items": null,
            "grid_row": null,
            "max_height": null,
            "align_content": null,
            "visibility": null,
            "align_self": null,
            "height": null,
            "min_height": null,
            "padding": null,
            "grid_auto_rows": null,
            "grid_gap": null,
            "max_width": null,
            "order": null,
            "_view_module_version": "1.2.0",
            "grid_template_areas": null,
            "object_position": null,
            "object_fit": null,
            "grid_auto_columns": null,
            "margin": null,
            "display": null,
            "left": null
          }
        },
        "759cba0a404d489dbb184e4fb200c280": {
          "model_module": "@jupyter-widgets/controls",
          "model_name": "HBoxModel",
          "state": {
            "_view_name": "HBoxView",
            "_dom_classes": [],
            "_model_name": "HBoxModel",
            "_view_module": "@jupyter-widgets/controls",
            "_model_module_version": "1.5.0",
            "_view_count": null,
            "_view_module_version": "1.5.0",
            "box_style": "",
            "layout": "IPY_MODEL_0bbbf8dea24b4db99502ff03fe4deca8",
            "_model_module": "@jupyter-widgets/controls",
            "children": [
              "IPY_MODEL_7516526db49f4a8dade530a88d56a451",
              "IPY_MODEL_95e2edba30344f5b90c822ec500e91a0"
            ]
          }
        },
        "0bbbf8dea24b4db99502ff03fe4deca8": {
          "model_module": "@jupyter-widgets/base",
          "model_name": "LayoutModel",
          "state": {
            "_view_name": "LayoutView",
            "grid_template_rows": null,
            "right": null,
            "justify_content": null,
            "_view_module": "@jupyter-widgets/base",
            "overflow": null,
            "_model_module_version": "1.2.0",
            "_view_count": null,
            "flex_flow": null,
            "width": null,
            "min_width": null,
            "border": null,
            "align_items": null,
            "bottom": null,
            "_model_module": "@jupyter-widgets/base",
            "top": null,
            "grid_column": null,
            "overflow_y": null,
            "overflow_x": null,
            "grid_auto_flow": null,
            "grid_area": null,
            "grid_template_columns": null,
            "flex": null,
            "_model_name": "LayoutModel",
            "justify_items": null,
            "grid_row": null,
            "max_height": null,
            "align_content": null,
            "visibility": null,
            "align_self": null,
            "height": null,
            "min_height": null,
            "padding": null,
            "grid_auto_rows": null,
            "grid_gap": null,
            "max_width": null,
            "order": null,
            "_view_module_version": "1.2.0",
            "grid_template_areas": null,
            "object_position": null,
            "object_fit": null,
            "grid_auto_columns": null,
            "margin": null,
            "display": null,
            "left": null
          }
        },
        "7516526db49f4a8dade530a88d56a451": {
          "model_module": "@jupyter-widgets/controls",
          "model_name": "FloatProgressModel",
          "state": {
            "_view_name": "ProgressView",
            "style": "IPY_MODEL_10357831f4ef483d8bebedd302994dba",
            "_dom_classes": [],
            "description": "pos Files: 100%",
            "_model_name": "FloatProgressModel",
            "bar_style": "success",
            "max": 12500,
            "_view_module": "@jupyter-widgets/controls",
            "_model_module_version": "1.5.0",
            "value": 12500,
            "_view_count": null,
            "_view_module_version": "1.5.0",
            "orientation": "horizontal",
            "min": 0,
            "description_tooltip": null,
            "_model_module": "@jupyter-widgets/controls",
            "layout": "IPY_MODEL_5f9e91ed3df64991b018121c6990b343"
          }
        },
        "95e2edba30344f5b90c822ec500e91a0": {
          "model_module": "@jupyter-widgets/controls",
          "model_name": "HTMLModel",
          "state": {
            "_view_name": "HTMLView",
            "style": "IPY_MODEL_d54e99ab3a0849fb984f6d20f3113e5d",
            "_dom_classes": [],
            "description": "",
            "_model_name": "HTMLModel",
            "placeholder": "​",
            "_view_module": "@jupyter-widgets/controls",
            "_model_module_version": "1.5.0",
            "value": " 12500/12500 [00:14&lt;00:00, 871.13it/s]",
            "_view_count": null,
            "_view_module_version": "1.5.0",
            "description_tooltip": null,
            "_model_module": "@jupyter-widgets/controls",
            "layout": "IPY_MODEL_b7036eb8d6e84347badd2a871b83d8f0"
          }
        },
        "10357831f4ef483d8bebedd302994dba": {
          "model_module": "@jupyter-widgets/controls",
          "model_name": "ProgressStyleModel",
          "state": {
            "_view_name": "StyleView",
            "_model_name": "ProgressStyleModel",
            "description_width": "initial",
            "_view_module": "@jupyter-widgets/base",
            "_model_module_version": "1.5.0",
            "_view_count": null,
            "_view_module_version": "1.2.0",
            "bar_color": null,
            "_model_module": "@jupyter-widgets/controls"
          }
        },
        "5f9e91ed3df64991b018121c6990b343": {
          "model_module": "@jupyter-widgets/base",
          "model_name": "LayoutModel",
          "state": {
            "_view_name": "LayoutView",
            "grid_template_rows": null,
            "right": null,
            "justify_content": null,
            "_view_module": "@jupyter-widgets/base",
            "overflow": null,
            "_model_module_version": "1.2.0",
            "_view_count": null,
            "flex_flow": null,
            "width": null,
            "min_width": null,
            "border": null,
            "align_items": null,
            "bottom": null,
            "_model_module": "@jupyter-widgets/base",
            "top": null,
            "grid_column": null,
            "overflow_y": null,
            "overflow_x": null,
            "grid_auto_flow": null,
            "grid_area": null,
            "grid_template_columns": null,
            "flex": null,
            "_model_name": "LayoutModel",
            "justify_items": null,
            "grid_row": null,
            "max_height": null,
            "align_content": null,
            "visibility": null,
            "align_self": null,
            "height": null,
            "min_height": null,
            "padding": null,
            "grid_auto_rows": null,
            "grid_gap": null,
            "max_width": null,
            "order": null,
            "_view_module_version": "1.2.0",
            "grid_template_areas": null,
            "object_position": null,
            "object_fit": null,
            "grid_auto_columns": null,
            "margin": null,
            "display": null,
            "left": null
          }
        },
        "d54e99ab3a0849fb984f6d20f3113e5d": {
          "model_module": "@jupyter-widgets/controls",
          "model_name": "DescriptionStyleModel",
          "state": {
            "_view_name": "StyleView",
            "_model_name": "DescriptionStyleModel",
            "description_width": "",
            "_view_module": "@jupyter-widgets/base",
            "_model_module_version": "1.5.0",
            "_view_count": null,
            "_view_module_version": "1.2.0",
            "_model_module": "@jupyter-widgets/controls"
          }
        },
        "b7036eb8d6e84347badd2a871b83d8f0": {
          "model_module": "@jupyter-widgets/base",
          "model_name": "LayoutModel",
          "state": {
            "_view_name": "LayoutView",
            "grid_template_rows": null,
            "right": null,
            "justify_content": null,
            "_view_module": "@jupyter-widgets/base",
            "overflow": null,
            "_model_module_version": "1.2.0",
            "_view_count": null,
            "flex_flow": null,
            "width": null,
            "min_width": null,
            "border": null,
            "align_items": null,
            "bottom": null,
            "_model_module": "@jupyter-widgets/base",
            "top": null,
            "grid_column": null,
            "overflow_y": null,
            "overflow_x": null,
            "grid_auto_flow": null,
            "grid_area": null,
            "grid_template_columns": null,
            "flex": null,
            "_model_name": "LayoutModel",
            "justify_items": null,
            "grid_row": null,
            "max_height": null,
            "align_content": null,
            "visibility": null,
            "align_self": null,
            "height": null,
            "min_height": null,
            "padding": null,
            "grid_auto_rows": null,
            "grid_gap": null,
            "max_width": null,
            "order": null,
            "_view_module_version": "1.2.0",
            "grid_template_areas": null,
            "object_position": null,
            "object_fit": null,
            "grid_auto_columns": null,
            "margin": null,
            "display": null,
            "left": null
          }
        },
        "20b455acca3c4a5295ee96677cad8a21": {
          "model_module": "@jupyter-widgets/controls",
          "model_name": "HBoxModel",
          "state": {
            "_view_name": "HBoxView",
            "_dom_classes": [],
            "_model_name": "HBoxModel",
            "_view_module": "@jupyter-widgets/controls",
            "_model_module_version": "1.5.0",
            "_view_count": null,
            "_view_module_version": "1.5.0",
            "box_style": "",
            "layout": "IPY_MODEL_6d1902fcd23b42a4b1ed9ed245925649",
            "_model_module": "@jupyter-widgets/controls",
            "children": [
              "IPY_MODEL_8708969a67674267b8081e446380197d",
              "IPY_MODEL_1ec07bd0793e4ff2a579b6b2be4274b8"
            ]
          }
        },
        "6d1902fcd23b42a4b1ed9ed245925649": {
          "model_module": "@jupyter-widgets/base",
          "model_name": "LayoutModel",
          "state": {
            "_view_name": "LayoutView",
            "grid_template_rows": null,
            "right": null,
            "justify_content": null,
            "_view_module": "@jupyter-widgets/base",
            "overflow": null,
            "_model_module_version": "1.2.0",
            "_view_count": null,
            "flex_flow": null,
            "width": null,
            "min_width": null,
            "border": null,
            "align_items": null,
            "bottom": null,
            "_model_module": "@jupyter-widgets/base",
            "top": null,
            "grid_column": null,
            "overflow_y": null,
            "overflow_x": null,
            "grid_auto_flow": null,
            "grid_area": null,
            "grid_template_columns": null,
            "flex": null,
            "_model_name": "LayoutModel",
            "justify_items": null,
            "grid_row": null,
            "max_height": null,
            "align_content": null,
            "visibility": null,
            "align_self": null,
            "height": null,
            "min_height": null,
            "padding": null,
            "grid_auto_rows": null,
            "grid_gap": null,
            "max_width": null,
            "order": null,
            "_view_module_version": "1.2.0",
            "grid_template_areas": null,
            "object_position": null,
            "object_fit": null,
            "grid_auto_columns": null,
            "margin": null,
            "display": null,
            "left": null
          }
        },
        "8708969a67674267b8081e446380197d": {
          "model_module": "@jupyter-widgets/controls",
          "model_name": "FloatProgressModel",
          "state": {
            "_view_name": "ProgressView",
            "style": "IPY_MODEL_59ee69d5f72f473ebffabf3f5b520544",
            "_dom_classes": [],
            "description": "neg Files: 100%",
            "_model_name": "FloatProgressModel",
            "bar_style": "success",
            "max": 12500,
            "_view_module": "@jupyter-widgets/controls",
            "_model_module_version": "1.5.0",
            "value": 12500,
            "_view_count": null,
            "_view_module_version": "1.5.0",
            "orientation": "horizontal",
            "min": 0,
            "description_tooltip": null,
            "_model_module": "@jupyter-widgets/controls",
            "layout": "IPY_MODEL_097800a7c8864a64927d0302c58ec47b"
          }
        },
        "1ec07bd0793e4ff2a579b6b2be4274b8": {
          "model_module": "@jupyter-widgets/controls",
          "model_name": "HTMLModel",
          "state": {
            "_view_name": "HTMLView",
            "style": "IPY_MODEL_b4e9b60afb0047a8aba77c36236ae783",
            "_dom_classes": [],
            "description": "",
            "_model_name": "HTMLModel",
            "placeholder": "​",
            "_view_module": "@jupyter-widgets/controls",
            "_model_module_version": "1.5.0",
            "value": " 12500/12500 [01:42&lt;00:00, 121.69it/s]",
            "_view_count": null,
            "_view_module_version": "1.5.0",
            "description_tooltip": null,
            "_model_module": "@jupyter-widgets/controls",
            "layout": "IPY_MODEL_39270b7674c042b9b51499492b30a915"
          }
        },
        "59ee69d5f72f473ebffabf3f5b520544": {
          "model_module": "@jupyter-widgets/controls",
          "model_name": "ProgressStyleModel",
          "state": {
            "_view_name": "StyleView",
            "_model_name": "ProgressStyleModel",
            "description_width": "initial",
            "_view_module": "@jupyter-widgets/base",
            "_model_module_version": "1.5.0",
            "_view_count": null,
            "_view_module_version": "1.2.0",
            "bar_color": null,
            "_model_module": "@jupyter-widgets/controls"
          }
        },
        "097800a7c8864a64927d0302c58ec47b": {
          "model_module": "@jupyter-widgets/base",
          "model_name": "LayoutModel",
          "state": {
            "_view_name": "LayoutView",
            "grid_template_rows": null,
            "right": null,
            "justify_content": null,
            "_view_module": "@jupyter-widgets/base",
            "overflow": null,
            "_model_module_version": "1.2.0",
            "_view_count": null,
            "flex_flow": null,
            "width": null,
            "min_width": null,
            "border": null,
            "align_items": null,
            "bottom": null,
            "_model_module": "@jupyter-widgets/base",
            "top": null,
            "grid_column": null,
            "overflow_y": null,
            "overflow_x": null,
            "grid_auto_flow": null,
            "grid_area": null,
            "grid_template_columns": null,
            "flex": null,
            "_model_name": "LayoutModel",
            "justify_items": null,
            "grid_row": null,
            "max_height": null,
            "align_content": null,
            "visibility": null,
            "align_self": null,
            "height": null,
            "min_height": null,
            "padding": null,
            "grid_auto_rows": null,
            "grid_gap": null,
            "max_width": null,
            "order": null,
            "_view_module_version": "1.2.0",
            "grid_template_areas": null,
            "object_position": null,
            "object_fit": null,
            "grid_auto_columns": null,
            "margin": null,
            "display": null,
            "left": null
          }
        },
        "b4e9b60afb0047a8aba77c36236ae783": {
          "model_module": "@jupyter-widgets/controls",
          "model_name": "DescriptionStyleModel",
          "state": {
            "_view_name": "StyleView",
            "_model_name": "DescriptionStyleModel",
            "description_width": "",
            "_view_module": "@jupyter-widgets/base",
            "_model_module_version": "1.5.0",
            "_view_count": null,
            "_view_module_version": "1.2.0",
            "_model_module": "@jupyter-widgets/controls"
          }
        },
        "39270b7674c042b9b51499492b30a915": {
          "model_module": "@jupyter-widgets/base",
          "model_name": "LayoutModel",
          "state": {
            "_view_name": "LayoutView",
            "grid_template_rows": null,
            "right": null,
            "justify_content": null,
            "_view_module": "@jupyter-widgets/base",
            "overflow": null,
            "_model_module_version": "1.2.0",
            "_view_count": null,
            "flex_flow": null,
            "width": null,
            "min_width": null,
            "border": null,
            "align_items": null,
            "bottom": null,
            "_model_module": "@jupyter-widgets/base",
            "top": null,
            "grid_column": null,
            "overflow_y": null,
            "overflow_x": null,
            "grid_auto_flow": null,
            "grid_area": null,
            "grid_template_columns": null,
            "flex": null,
            "_model_name": "LayoutModel",
            "justify_items": null,
            "grid_row": null,
            "max_height": null,
            "align_content": null,
            "visibility": null,
            "align_self": null,
            "height": null,
            "min_height": null,
            "padding": null,
            "grid_auto_rows": null,
            "grid_gap": null,
            "max_width": null,
            "order": null,
            "_view_module_version": "1.2.0",
            "grid_template_areas": null,
            "object_position": null,
            "object_fit": null,
            "grid_auto_columns": null,
            "margin": null,
            "display": null,
            "left": null
          }
        }
      }
    }
  },
  "cells": [
    {
      "cell_type": "markdown",
      "metadata": {
        "id": "qSuUpkj1UuUa"
      },
      "source": [
        "##### © Copyright 2020 [George Mihaila](https://github.com/gmihaila).\n",
        "\n",
        "Licensed under the Apache License, Version 2.0 (the \"License\");"
      ]
    },
    {
      "cell_type": "code",
      "metadata": {
        "id": "FkXPZsPbT2aV"
      },
      "source": [
        "#@title Licensed under the Apache License, Version 2.0 (the \"License\");\n",
        "# you may not use this file except in compliance with the License.\n",
        "# You may obtain a copy of the License at\n",
        "#\n",
        "# https://www.apache.org/licenses/LICENSE-2.0\n",
        "#\n",
        "# Unless required by applicable law or agreed to in writing, software\n",
        "# distributed under the License is distributed on an \"AS IS\" BASIS,\n",
        "# WITHOUT WARRANTIES OR CONDITIONS OF ANY KIND, either express or implied.\n",
        "# See the License for the specific language governing permissions and\n",
        "# limitations under the License."
      ],
      "execution_count": 1,
      "outputs": []
    },
    {
      "cell_type": "markdown",
      "metadata": {
        "id": "aP1zAHX4S70e"
      },
      "source": [
        "# **Better Batches with PyTorchText BucketIterator**\n",
        "\n",
        "## **How to use PyTorchText BucketIterator to sort text data for better batching.**\n",
        "\n",
        "[![Open In Colab](https://colab.research.google.com/assets/colab-badge.svg)](https://colab.research.google.com/github/gmihaila/ml_things/blob/master/notebooks/pytorch/pretrain_transformers_pytorch.ipynb) &nbsp;\n",
        "[![Generic badge](https://img.shields.io/badge/GitHub-Source-greensvg)](https://github.com/gmihaila/ml_things/blob/master/notebooks/pytorch/pretrain_transformers_pytorch.ipynb)\n",
        "[![Generic badge](https://img.shields.io/badge/Article-Medium-black.svg)](https://medium.com/@gmihaila/fine-tune-transformers-in-pytorch-using-transformers-57b40450635)\n",
        "[![License](https://img.shields.io/badge/License-Apache%202.0-blue.svg)](https://opensource.org/licenses/Apache-2.0)\n",
        "\n",
        "\n",
        "<br>\n",
        "\n",
        "**Disclaimer:** *The format of this tutorial notebook is very similar with my other tutorial notebooks. This is done intentionally in order to keep readers familiar with my format.*\n",
        "\n",
        "<br>\n",
        "\n",
        "This notebook is a simple tutorial on how to use the powerful **PytorchText**  **BucketIterator** function to group examples of similar lengths. This allowes us to provide the most optimal batching method when training models with text data.\n",
        "\n",
        "The batching grouping provides a lot of gain for recurrent models (RNN, GRU, LSTM) and transformers models (bert, roBerta, gpt2, xlnet, etc.). Basically any model that takes as input variable text data sequences.\n",
        "\n",
        "**I will not train any models in this notebook!** I will release a tutorial where I use this implementation to train a transformer model.\n",
        "\n",
        "The purpose is to use an example text datasets and batch it using **PyTorchText** with **BucketIterator** and show how it groups text sequences of similar length in batches.\n",
        "\n",
        "This tutorial has two main parts:\n",
        "\n",
        "* **Using PyTorch Dataset with PyTorchText Bucket Iterator**: Here I implemented a standard PyTorch Dataset class that reads in a text dataset and use PyTorch Bucket Iterator to group similar length examples in same batches. I want to show how easy it is to use this powerful fucntinality form PyTorchText on a regular PyTorch Dataset workflow.\n",
        "\n",
        "* **Using PyTorch Text TabularDataset with PyTOrchText Bucket Iterator**: Here I use the built-in PyTorchText TabularDataset that reads data straight from local files without the need to create a PyTorch Dataset class.\n",
        "\n",
        "*This notebooks is a code adaptation and implementation inspired from a few sources:* [torchtext_translation_tutorial](https://pytorch.org/tutorials/beginner/torchtext_translation_tutorial.html), [pytorch/text - GitHub](https://github.com/pytorch/text), [torchtext documentation](https://torchtext.readthedocs.io/en/latest/index.html#) and [A Comprehensive Introduction to Torchtext](https://mlexplained.com/2018/02/08/a-comprehensive-tutorial-to-torchtext/).\n",
        "\n",
        "<br>\n",
        "\n",
        "## **What should I know for this notebook?**\n",
        "\n",
        "Some basic PyTorch regarding Dataset class and using DataLoaders. Some knowledge of PyTorchText is helpful but not critical in understanding this tutorial. The BucketIterator is similar in applying Dataloader to a PyTorch Dataset.\n",
        "\n",
        "<br>\n",
        "\n",
        "## **How to use this notebook?**\n",
        "\n",
        "The code is made with reusability in mind. It can be easily adapted for other text datasets and other NLP tasks in order to achieve optimal batching. \n",
        "\n",
        "Comments should provide enough guidance to easily adapt this notebook to your needs.\n",
        "\n",
        "This code is designed mostly for **classification tasks** in mind, but it can be adapted for any other Natural Language Processing tasks where batching text data is needed.\n",
        "\n",
        "\n",
        "\n",
        "\n",
        "\n",
        "\n",
        "<br>\n",
        "\n",
        "\n",
        "## **Dataset**\n",
        "\n",
        "This notebook will cover pretraining transformers on a custom dataset. I will use the well known movies reviews positive - negative labeled [Large Movie Review Dataset](https://ai.stanford.edu/~amaas/data/sentiment/).\n",
        "\n",
        "The description provided on the Stanford website:\n",
        "\n",
        "*This is a dataset for binary sentiment classification containing substantially more data than previous benchmark datasets. We provide a set of 25,000 highly polar movie reviews for training, and 25,000 for testing. There is additional unlabeled data for use as well. Raw text and already processed bag of words formats are provided. See the README file contained in the release for more details.*\n",
        "\n",
        "**Why this dataset?** I believe is an easy to understand and use dataset for classification. I think sentiment data is always fun to work with.\n",
        "\n",
        "<br>\n",
        "\n",
        "## **Coding**\n",
        "\n",
        "Now let's do some coding! We will go through each coding cell in the notebook and describe what it does, what's the code, and when is relevant - show the output.\n",
        "\n",
        "I made this format to be easy to follow if you decide to run each code cell in your own python notebook.\n",
        "\n",
        "When I learn from a tutorial I always try to replicate the results. I believe it's easy to follow along if you have the code next to the explanations.\n",
        "\n",
        "<br>\n"
      ]
    },
    {
      "cell_type": "markdown",
      "metadata": {
        "id": "8ppW60cUXZQK"
      },
      "source": [
        "## Downloads\n",
        "\n",
        "Download the IMDB Movie Reviews sentiment dataset and unzip it locally."
      ]
    },
    {
      "cell_type": "code",
      "metadata": {
        "id": "6l_gehghXapy"
      },
      "source": [
        "# download the dataset\n",
        "!wget -q -nc http://ai.stanford.edu/~amaas/data/sentiment/aclImdb_v1.tar.gz\n",
        "# unzip it\n",
        "!tar -zxf /content/aclImdb_v1.tar.gz"
      ],
      "execution_count": 2,
      "outputs": []
    },
    {
      "cell_type": "markdown",
      "metadata": {
        "id": "UCLtm5BiXona"
      },
      "source": [
        "## **Installs**\n",
        "\n",
        "* **[ml_things](https://github.com/gmihaila/ml_things)** library used for various machine learning related tasks. I created this library to reduce the amount of code I need to write for each machine learning project.\n"
      ]
    },
    {
      "cell_type": "code",
      "metadata": {
        "id": "1JQhmThRXp7b",
        "outputId": "b2c393ed-71e2-4db1-9389-bc85c2ca02ee",
        "colab": {
          "base_uri": "https://localhost:8080/"
        }
      },
      "source": [
        "# Install helper functions.\n",
        "!pip install -q git+https://github.com/gmihaila/ml_things.git"
      ],
      "execution_count": 3,
      "outputs": [
        {
          "output_type": "stream",
          "text": [
            "\u001b[?25l\r\u001b[K     |█████▏                          | 10kB 21.1MB/s eta 0:00:01\r\u001b[K     |██████████▎                     | 20kB 24.2MB/s eta 0:00:01\r\u001b[K     |███████████████▍                | 30kB 14.8MB/s eta 0:00:01\r\u001b[K     |████████████████████▌           | 40kB 11.6MB/s eta 0:00:01\r\u001b[K     |█████████████████████████▋      | 51kB 5.5MB/s eta 0:00:01\r\u001b[K     |██████████████████████████████▊ | 61kB 6.2MB/s eta 0:00:01\r\u001b[K     |████████████████████████████████| 71kB 3.6MB/s \n",
            "\u001b[?25h  Building wheel for ml-things (setup.py) ... \u001b[?25l\u001b[?25hdone\n",
            "  Building wheel for ftfy (setup.py) ... \u001b[?25l\u001b[?25hdone\n"
          ],
          "name": "stdout"
        }
      ]
    },
    {
      "cell_type": "markdown",
      "metadata": {
        "id": "X5IO8-xrXvWY"
      },
      "source": [
        "## **Imports**\n",
        "\n",
        "Import all needed libraries for this notebook.\n",
        "\n",
        "Declare basic parameters used for this notebook:\n",
        "\n",
        "* `device` - Device to use by torch: GPU/CPU. I use CPU as default since I will not perform any costly operaitons.\n",
        "\n",
        "* `train_batch_size` - Batch size used on train data.\n",
        "\n",
        "* `valid_batch_size` - Batch size used for validation data. It usually is greater than `train_batch_size` since the model would only need to make prediciton and no gradient calculations is needed."
      ]
    },
    {
      "cell_type": "code",
      "metadata": {
        "id": "J42h802BXwTe"
      },
      "source": [
        "import io\n",
        "import os\n",
        "import torchtext\n",
        "from tqdm.notebook import tqdm\n",
        "from ml_things import fix_text\n",
        "from torch.utils.data import Dataset, DataLoader\n",
        "\n",
        "# Will use `cpu` for simplicity.\n",
        "device = 'cpu'\n",
        "\n",
        "# Number of batches for training\n",
        "train_batch_size = 10\n",
        "\n",
        "# Number of batches for validation. Use a larger value than training.\n",
        "# It helps speed up the validaiton process.\n",
        "valid_batch_size = 20"
      ],
      "execution_count": 4,
      "outputs": []
    },
    {
      "cell_type": "markdown",
      "metadata": {
        "id": "9biWe-OhS4Wo"
      },
      "source": [
        "## Using PyTorch Dataset\n",
        "\n",
        "This is where I create the PyTorch Dataset objects for training and validation that **can** be used to feed data into a model. This is standard procedure when using PyTorch.\n",
        "\n"
      ]
    },
    {
      "cell_type": "markdown",
      "metadata": {
        "id": "ChQWVc4IUUPb"
      },
      "source": [
        "### Dataset Class\n",
        "\n",
        "Implementation of the PyTorch Dataset class.\n",
        "\n",
        "Most important components in a PyTorch Dataset class are:\n",
        "* `__len__(self, )` where it returns the number of examples in our dataset that we read in `__init__(self, )`. This will ensure that `len()` will return the number of examples.\n",
        "* `__getitem__(self, item)` where given an index `item` will return the example coresponding to the `item` position."
      ]
    },
    {
      "cell_type": "code",
      "metadata": {
        "id": "-Fo_0qq_S_Zf"
      },
      "source": [
        "class MovieReviewsTextDataset(Dataset):\n",
        "  r\"\"\"PyTorch Dataset class for loading data.\n",
        "\n",
        "  This is where the data parsing happens.\n",
        "\n",
        "  This class is built with reusability in mind.\n",
        "\n",
        "  Arguments:\n",
        "\n",
        "    path (:obj:`str`):\n",
        "        Path to the data partition.\n",
        "\n",
        "  \"\"\"\n",
        "\n",
        "  def __init__(self, path):\n",
        "\n",
        "    # Check if path exists.\n",
        "    if not os.path.isdir(path):\n",
        "      # Raise error if path is invalid.\n",
        "      raise ValueError('Invalid `path` variable! Needs to be a directory')\n",
        "    \n",
        "    self.texts = []\n",
        "    self.labels = []\n",
        "    # Since the labels are defined by folders with data we loop \n",
        "    # through each label.\n",
        "    for label  in ['pos', 'neg']:\n",
        "      sentiment_path = os.path.join(path, label)\n",
        "\n",
        "      # Get all files from path.\n",
        "      files_names = os.listdir(sentiment_path)#[:10] # Sample for debugging.\n",
        "      # Go through each file and read its content.\n",
        "      for file_name in tqdm(files_names, desc=f'{label} Files'):\n",
        "        file_path = os.path.join(sentiment_path, file_name)\n",
        "\n",
        "        # Read content.\n",
        "        content = io.open(file_path, mode='r', encoding='utf-8').read()\n",
        "        # Fix any unicode issues.\n",
        "        content = fix_text(content)\n",
        "        # Save content.\n",
        "        self.texts.append(content)\n",
        "        # Save labels.\n",
        "        self.labels.append(label)\n",
        "\n",
        "    # Number of exmaples.\n",
        "    self.n_examples = len(self.labels)\n",
        "\n",
        "    return\n",
        "\n",
        "\n",
        "  def __len__(self):\n",
        "    r\"\"\"When used `len` return the number of examples.\n",
        "\n",
        "    \"\"\"\n",
        "    \n",
        "    return self.n_examples\n",
        "\n",
        "\n",
        "  def __getitem__(self, item):\n",
        "    r\"\"\"Given an index return an example from the position.\n",
        "    \n",
        "    Arguments:\n",
        "\n",
        "      item (:obj:`int`):\n",
        "          Index position to pick an example to return.\n",
        "\n",
        "    Returns:\n",
        "      :obj:`Dict[str, str]`: Dictionary of inputs that are used to feed \n",
        "      to a model.\n",
        "\n",
        "    \"\"\"\n",
        "\n",
        "    return {'text':self.texts[item], 'label':self.labels[item]}"
      ],
      "execution_count": 20,
      "outputs": []
    },
    {
      "cell_type": "markdown",
      "metadata": {
        "id": "52b7iTASUYAZ"
      },
      "source": [
        "### Train - Validation Datasets\n",
        "\n",
        "Create PyTorch Dataset for train and validation partitions."
      ]
    },
    {
      "cell_type": "code",
      "metadata": {
        "id": "EQ-HrjdOUcK6",
        "outputId": "de2d9fc2-96ba-4e5c-a571-b691889ed2c0",
        "colab": {
          "base_uri": "https://localhost:8080/",
          "height": 298,
          "referenced_widgets": [
            "dad0fde1bb234e199ecb90fa8d7121f7",
            "b744182028cb49b8b9487b223154c17f",
            "4b37a43a1a2a484e81bd846528d0e869",
            "56c403126c184ab285e8f8c32913adb3",
            "463174bcce1d426f8c782a73be06542f",
            "2cf03d65545d4ff38ce1529d8830f6e1",
            "e66c98f8caf94f23828823a8a8e1a3d9",
            "21eab334c3d6493b8529d8a748f07985",
            "30febe7dc42c4f6b83739a431e30c270",
            "cd437d138e494933ba6d10a30e0ed67a",
            "bdbd4b6d1fb44512b65122ac4796158b",
            "e5023ddea8cc4c98ba36b2e699679e06",
            "66c74197bf53429099167c5805bd8dfb",
            "e7b2214d33fd48989131f7050cb8f34f",
            "1c59c6b29340469587c2e910dcaf50c6",
            "e37cf4e14300482581f9d38947933821",
            "1bf8f9f8bce640c1bebb18287571513f",
            "6e4c7b7b5a85429293ec6fcab2d7c9a8",
            "1fed350aa59b4c7ea25df0f3e82a3067",
            "ffde509700004f658d5d86fdc861c05e",
            "93db5c1cd89f44ea9374efc63c069a9c",
            "9b684c37c06a47a1860a1ada542f7a66",
            "7dcb325407834d97985ad48033279a61",
            "825dc452fcbd492d83520b74f43a637a",
            "5dedadf8a8164dc891262a15d1c449ae",
            "5255f81b15d64273a2516cef83f09a1f",
            "3d1f93b24f5a4d25846a624981b388f9",
            "580be97d9d4b40859ad2293b10d56998",
            "45be9b36c2474d45a3d238a8f831b05f",
            "ff4c12f0396e489fa1803482ba46a95f",
            "cf1451d6f5c14335baf75f351952ef05",
            "851504272d754ca19dd932fce175cc1c"
          ]
        }
      },
      "source": [
        "print('Dealing with Train...')\n",
        "# Create pytorch dataset.\n",
        "train_dataset = MovieReviewsTextDataset(path='/content/aclImdb/train')\n",
        "\n",
        "print(f'Created `train_dataset` with {len(train_dataset)} examples!')\n",
        "\n",
        "print()\n",
        "\n",
        "print('Dealing with Validation...')\n",
        "# Create pytorch dataset.\n",
        "valid_dataset =  MovieReviewsTextDataset(path='/content/aclImdb/test')\n",
        "                               \n",
        "print(f'Created `valid_dataset` with {len(valid_dataset)} examples!')"
      ],
      "execution_count": 22,
      "outputs": [
        {
          "output_type": "stream",
          "text": [
            "Dealing with Train...\n"
          ],
          "name": "stdout"
        },
        {
          "output_type": "display_data",
          "data": {
            "application/vnd.jupyter.widget-view+json": {
              "model_id": "dad0fde1bb234e199ecb90fa8d7121f7",
              "version_minor": 0,
              "version_major": 2
            },
            "text/plain": [
              "HBox(children=(FloatProgress(value=0.0, description='pos Files', max=12500.0, style=ProgressStyle(description_…"
            ]
          },
          "metadata": {
            "tags": []
          }
        },
        {
          "output_type": "stream",
          "text": [
            "\n"
          ],
          "name": "stdout"
        },
        {
          "output_type": "display_data",
          "data": {
            "application/vnd.jupyter.widget-view+json": {
              "model_id": "30febe7dc42c4f6b83739a431e30c270",
              "version_minor": 0,
              "version_major": 2
            },
            "text/plain": [
              "HBox(children=(FloatProgress(value=0.0, description='neg Files', max=12500.0, style=ProgressStyle(description_…"
            ]
          },
          "metadata": {
            "tags": []
          }
        },
        {
          "output_type": "stream",
          "text": [
            "\n",
            "Created `train_dataset` with 25000 examples!\n",
            "\n",
            "Dealing with Validation...\n"
          ],
          "name": "stdout"
        },
        {
          "output_type": "display_data",
          "data": {
            "application/vnd.jupyter.widget-view+json": {
              "model_id": "1bf8f9f8bce640c1bebb18287571513f",
              "version_minor": 0,
              "version_major": 2
            },
            "text/plain": [
              "HBox(children=(FloatProgress(value=0.0, description='pos Files', max=12500.0, style=ProgressStyle(description_…"
            ]
          },
          "metadata": {
            "tags": []
          }
        },
        {
          "output_type": "stream",
          "text": [
            "\n"
          ],
          "name": "stdout"
        },
        {
          "output_type": "display_data",
          "data": {
            "application/vnd.jupyter.widget-view+json": {
              "model_id": "5dedadf8a8164dc891262a15d1c449ae",
              "version_minor": 0,
              "version_major": 2
            },
            "text/plain": [
              "HBox(children=(FloatProgress(value=0.0, description='neg Files', max=12500.0, style=ProgressStyle(description_…"
            ]
          },
          "metadata": {
            "tags": []
          }
        },
        {
          "output_type": "stream",
          "text": [
            "\n",
            "Created `valid_dataset` with 25000 examples!\n"
          ],
          "name": "stdout"
        }
      ]
    },
    {
      "cell_type": "markdown",
      "metadata": {
        "id": "OuXCNfZLUeJJ"
      },
      "source": [
        "### PyTorch DataLoader\n",
        "\n",
        "In order to group examples from the PyTorch Dataset into batches we use PyTorch DataLoader. This is standard when using PyTorch."
      ]
    },
    {
      "cell_type": "code",
      "metadata": {
        "id": "vW8mE9wYTfLJ",
        "outputId": "e1f977af-72a7-4066-cd25-0d117ed6ba11",
        "colab": {
          "base_uri": "https://localhost:8080/"
        }
      },
      "source": [
        "# Move pytorch dataset into dataloader.\n",
        "torch_train_dataloader = DataLoader(train_dataset, batch_size=train_batch_size, shuffle=True)\n",
        "print(f'Created `torch_train_dataloader` with {len(torch_train_dataloader)} batches!')\n",
        "\n",
        "# Move pytorch dataset into dataloader.\n",
        "torch_valid_dataloader = DataLoader(valid_dataset, batch_size=valid_batch_size, shuffle=False)\n",
        "print(f'Created `torch_valid_dataloader` with {len(torch_valid_dataloader)} batches!')"
      ],
      "execution_count": 23,
      "outputs": [
        {
          "output_type": "stream",
          "text": [
            "Created `torch_train_dataloader` with 2500 batches!\n",
            "Created `torch_valid_dataloader` with 1250 batches!\n"
          ],
          "name": "stdout"
        }
      ]
    },
    {
      "cell_type": "markdown",
      "metadata": {
        "id": "6IAuKwSvIbxe"
      },
      "source": [
        "### PyTorchText Bucket Iterator Dataloader\n",
        "\n",
        "Here is where the magic happens! We pass in the **train_dataset** and **train_dataset** PyTorch Dataset splits into **BucketIterator** to create the actual batches.\n",
        "\n",
        "It's very nice that PyTorchText can handle splits! We need to write same line of code again for train and validation split.\n",
        "\n",
        "*The **sort_key** parameter is very important!* It is used to order text sequences in batches. Since we want to batch sequence of text with similar length, we will use a simple function that returns the length of an data example (`len(x['text')`). This function needs to follow the format of the PyTorch Dataset in order to return the length of an example, in my case I return a dicitonary with `text` key for an example.\n",
        "\n",
        "**It is important to keep `sort=False` and `sort_with_batch=True` to only sort the examples in each batche and not the examples in the whole dataset!**\n",
        "\n",
        "Find more details in the pytorchtext **BucketIterator** documentation [here](https://torchtext.readthedocs.io/en/latest/data.html#bucketiterator) - look at the **BPTTIterator** because it has same parameters except the **bptt_len** argument.\n",
        "\n",
        "**Note:**\n",
        "*If you want just a single DataLoader use `torchtext.data.BucketIterator` instead of `torchtext.data.BucketIterator.splits` and make sure to provide just one PyTorch Dataset instead of tuple of PyTorch Datasets and change the parameter `batch_sizes` and its tuple values to `batch_size` with single value: `dataloader = torchtext.data.BucketIterator(dataset, batch_size=batch_size, )`*"
      ]
    },
    {
      "cell_type": "code",
      "metadata": {
        "id": "OKfYOod_LQrs",
        "outputId": "2e38499b-6f9b-4941-b27f-77ef8e039c43",
        "colab": {
          "base_uri": "https://localhost:8080/"
        }
      },
      "source": [
        "# Group similar length text sequences together in batches.\n",
        "torchtext_train_dataloader, torchtext_valid_dataloader = torchtext.data.BucketIterator.splits(\n",
        "    \n",
        "                              # Datasets for iterator to draw data from\n",
        "                              (train_dataset, valid_dataset),\n",
        "\n",
        "                              # Tuple of train and validation batch sizes.\n",
        "                              batch_sizes=(train_batch_size, valid_batch_size),\n",
        "\n",
        "                              # Device to load batches on.\n",
        "                              device=device, \n",
        "\n",
        "                              # Function to use for sorting examples.\n",
        "                              sort_key=lambda x: len(x['text']),\n",
        "\n",
        "\n",
        "                              # Repeat the iterator for multiple epochs.\n",
        "                              repeat=True, \n",
        "\n",
        "                              # Sort all examples in data using `sort_key`.\n",
        "                              sort=False, \n",
        "\n",
        "                              # Shuffle data on each epoch run.\n",
        "                              shuffle=True,\n",
        "\n",
        "                              # Use `sort_key` to sort examples in each batch.\n",
        "                              sort_within_batch=True,\n",
        "                              )\n",
        "\n",
        "# Print number of batches in each split.\n",
        "print('Created `torchtext_train_dataloader` with %d batches!'%len(torchtext_train_dataloader))\n",
        "print('Created `torchtext_valid_dataloader` with %d batches!'%len(torchtext_valid_dataloader))"
      ],
      "execution_count": 67,
      "outputs": [
        {
          "output_type": "stream",
          "text": [
            "Created `torchtext_train_dataloader` with 2500 batches!\n",
            "Created `torchtext_valid_dataloader` with 1250 batches!\n"
          ],
          "name": "stdout"
        }
      ]
    },
    {
      "cell_type": "markdown",
      "metadata": {
        "id": "gHQaFJvYNkKJ"
      },
      "source": [
        "### Compare DataLoaders\n",
        "\n",
        "Let's compare the PyTorch DataLoader batches with the PyTorchText BucketIterator batches. We can see how nicely examples of similar length are grouped in same batch with PyTorchText.\n",
        "\n",
        "**Note:** *When using the PyTorchText BucketIterator, make sure to call `create_batches()` before looping through each batch! Else you won't get any output form the iterator.*"
      ]
    },
    {
      "cell_type": "code",
      "metadata": {
        "id": "hevDHd2uNn3K",
        "outputId": "64326c12-19d9-48f5-f2cc-e206472faddd",
        "colab": {
          "base_uri": "https://localhost:8080/"
        }
      },
      "source": [
        "# Loop through regular dataloader.\n",
        "print('PyTorch DataLoader\\n')\n",
        "for batch in torch_train_dataloader:\n",
        "  \n",
        "  # Let's check batch size.\n",
        "  print('Batch size: %d\\n'% len(batch['text']))\n",
        "  print('LABEL\\tLENGTH\\tTEXT'.ljust(10))\n",
        "\n",
        "  # Print each example.\n",
        "  for text, label in zip(batch['text'], batch['label']):\n",
        "    print('%s\\t%d\\t%s'.ljust(10) % (label, len(text), text))\n",
        "  print('\\n')\n",
        "  \n",
        "  # Only look at first batch. Reuse this code in training models.\n",
        "  break\n",
        "  \n",
        "\n",
        "# Create batches - needs to be called before each loop.\n",
        "torchtext_train_dataloader.create_batches()\n",
        "\n",
        "# Loop through BucketIterator.\n",
        "print('PyTorchText BuketIterator\\n')\n",
        "for batch in torchtext_train_dataloader.batches:\n",
        "\n",
        "  # Let's check batch size.\n",
        "  print('Batch size: %d\\n'% len(batch))\n",
        "  print('LABEL\\tLENGTH\\tTEXT'.ljust(10))\n",
        "  \n",
        "  # Print each example.\n",
        "  for example in batch:\n",
        "    print('%s\\t%d\\t%s'.ljust(10) % (example['label'], len(example['text']), example['text']))\n",
        "  print('\\n')\n",
        "  \n",
        "  # Only look at first batch. Reuse this code in training models.\n",
        "  break"
      ],
      "execution_count": 53,
      "outputs": [
        {
          "output_type": "stream",
          "text": [
            "PyTorch DataLoader\n",
            "\n",
            "Batch size: 10\n",
            "\n",
            "LABEL\tLENGTH\tTEXT\n",
            "neg\t2823\tThis show is a perfect example of how the CBC should stick to either news, sports, or satirical sketch comedy. As a developer of situation comedy, CBC has shown it can combine the pizazz of \"King of Kensington\" with the belly laughs of \"The Beachcombers\". It is an embarrassment to great shows like \"Kids in the Hall\" and \"Second City\" that they have to share their comedic roots with this lame production.<br /><br />I have to admit, that I didn't give this show much of a chance right from when I first heard of its concept. To start, half of the concept is a direct attempt to rip-off one of the few sitcom successes in English-Canadian history, \"Corner Gas\". The rest of the concept--the cultural clash--is far from being original and is too often used as a crutch for screen writing laziness. The selection of the Muslim religion as the basis for the \"fish out of water\" characters seems to be a desperate attempt to be \"edgy\" and \"topical\", but comes off as forced. Some of the jokes that are based around the local's reaction to the newcomers are cringe inducing and thoroughly insulting to the intelligence of everyone involved, especially the audience.<br /><br />This show is a perfect example of how CBC just doesn't \"get it\" when it comes to creating Canadian content, especially when presenting Canada as a multicultural environment. Cultural diversity in Canada does not have to be presented in such a heavy-handed and forced way. It would be a refreshing change to see CBC introduce diversity into a television show without making the show all about said diversity. I doubt that CBC has sufficient sitcom talent to pull off something so subtle. A comparison could be made to the way diversity is depicted in Corner Gas--i.e. the aboriginal characters are not set apart by their ethnicity nor is their heritage used to generate story lines. More realistically, their lives and the other characters lives intertwine in a way that makes ethnicity no more significant than any of their other personal characteristics.<br /><br />That being said, even as a formulaic fish-out-of-water comedy this show fails. The acting is weak, the comic pacing all over the map, and the story premises that I saw were too far beyond the suspension of belief, even for a comedy. The only saving grace is the talented Derek McGrath, who is horribly wasted here. I doubt that even the addition of guest stars (Colin Mochrie, for example, as an Anglican archbishop) can save this dog. I decided to give the show a chance once the CBC's 'hype' had died down; but two episodes were all I could stand--I could almost feel my braincells shutting themselves down with each failed punchline. The time-slot would be better served by airing more Coronation Street, Air Farce re-runs, or Dr. Who. Even an infomercial would be an improvement.  \n",
            "neg\t1118\tLike last year, I didn't manage to sit through the whole thing. Okay, so Chris Rock as a host was a good choice because he was vaguely engaging. Or rather, out of all the total bores packed into the theatre, he at least wasn't in the Top 10 Most Boring. A lot of the presenters, on the other hand, were in this coveted Top 10. I hadn't known that the whole thing had been done by autocue (although I knew it was scripted) but it was really terrible to see these supposedly good actors unable to insert expression, look away from the cue and stumble over simple words (Natalie Portman…if there's no director, she's gone). The Night of Fancy Dresses and Boring Speeches was long and tedious, Beyonce Knowles butchered some good songs and there were very few decent acceptance speeches and clips. Adam Sandler wins the Worst Presenter award.<br /><br />For helping me write this review I'd like to thank my Mum, my Dad, my lawyers and my pedicurist for all believing in me, and I'd like to point out that I have a high metabolism and of course I haven't been starving myself for a month. I'm not going to cry...thank you.  \n",
            "pos\t877\tThis is a great movie. In the same genre of the \"Memphis Belle\". Seen it about 10 years ago. And would like to see it again. There is a link with the history of the hells angels!! How the pilot crew fight the Germans in WO2. And most Changes form pilots to Harley motor cycle rs. The movie is in a way really happened. See the movie! And reed the history of the hells angels at hells at hells angels.com Regards Frederik.<br /><br />Cast & Crew: John Stamos, John Stockwell, Teri Polo, Kris Kamm, directed by Graham Baker more » Synopsis: The story of a rowdy backwoods rebel biker who joins the Army to avoid a stiff prison sentence after a minor brush with the law. Though he chafes at Army discipline, he soon proves himself under fire as a daring and charismatic leader of men in a Motorcycle Scout Troop in pr-World War II Spain. more » MPAA Rating: PG Runtime: 88 minutes  \n",
            "neg\t687\tThe only thing that surprises me more than the number of people who liked this movie is that it was directed by Clint Eastwood, whose work I admire immensely. The leads had absolutely no chemistry. Not for a second could I believe that there was anything deeper than lust between them. The story just didn't ring true. Add to that stilted conversation, tons of stereotypes, and an incredibly slow plot that basically leads nowhere, and you've got yourself a real stinker. Kay Lenz's nude scenes might be worthwhile for those seeking some salacious fare, but otherwise this is a colossal waste of time. My thoughts as I watched the movie was that itwould have been better titled \"Cheesy.\"  \n",
            "pos\t581\tThis movie kept me constantly entertained. In comparing this to Serial Mom, Mr. Waters has gone back to his grittier side. This is not nearly as polished.<br /><br />There is a dark side here. A message about how success and fame changes a person -- but more importantly how it changes the people around you.<br /><br />There is not a false moment in this film.<br /><br />The characters are somewhat cartoonish... but I want to believe that is what Mr. Waters is trying to achieve.<br /><br />It is fascinating to watch how Mr. Waters has evolved... This is truly his finest work.  \n",
            "pos\t2420\tLife Begins - and ends - in a typical 1930's maternity / recovery ward, where we view 48 hours in the lives of several high risk pregnant women, played by Loretta Young, Glenda Farrell, Clara Blandick (Aunty Em???), Vivienne Osborne, Dorothy Tree, and Gloria Shea, as they await to give birth. While the film features plot devices which seem far fetched today when maternity wards are much more controlled and restricted, it does offer us a look back in time to see what giving birth in a typical city hospital in 1932 was like for our grandmothers and great-grandmothers. I found the film fascinating and exceptionally moving.<br /><br />Oddly enough, the most outstanding performance in this film comes from a male cast member, young Eric Linden as Jed Sutton, Grace's (Loretta Young) husband. What an actor! As a first time father, Jed is distraught and uneasy with hospital staff who seem to brush off his concerns about his wife as they might brush crumbs off a cafeteria table. I felt his every concern keenly. I'd like to see more of this actor's work. He had a very emotional voice, which was used to unforgettable effect in Gone With The Wind. In that film Eric played the young soldier whose leg was amputated without anesthesia, who screamed \"Don't cut! Don't cut!\" as Scarlett fled the hospital in horror. Chilling! Another great performance is from Aline MacMahon, who plays Miss Bowers, the nurse. Her character is a salt of the earth type, the kind of nurse we all hope to get for our hospital stays, who breaks the hospital rules constantly in order to show a more humane side of the medical profession.<br /><br />Loretta Young did another superb acting job here as well, a very authentic and deeply felt performance as Grace. My, she is great in these precodes, I've really grown to appreciate her more as an actress the last few months.<br /><br />Glenda Farrell played her role of a shrill unwed mother a little over the top for my taste (didn't anyone know back in 1932 that swigging brandy from a hot water bottle might be hazardous to unborn babies' health?) but her character redeems herself in the end.<br /><br />Also in the cast was an uncredited Gilbert Roland, silent movie star, as a grieving Italian husband. His screen time was brief, but notable.<br /><br />Life Begins is a must-see precode, try to catch it sometime on TCM, but remember to bring a few hankies to cry into. 9 out of 10.  \n",
            "pos\t692\tI first saw this film 40 years ago on N.Y. television, and thought it was a depressing look at the future. Wells sees restriction of private freedoms as a good thing. (\" no private airplanes\". The 30 year plus war in the film was the reason this film was not shown to British film goers doing the war. The concept of the future, and the Korda an Co. concept of the the machines of the future are the real stars of the film. The very best acting performance is that of Ralph Richardson as the Boss. A combination of Winston Churchill and Edina from Absolutely Fabulous comedy series. It is interesting to note that the Boss's negative personality is somewhat similar to the war time Churchill.  \n",
            "pos\t2373\tBuffs of the adult western that flourished in the 1950s try and trace its origins to the film that kicked off the syndrome. Of course, we can go back to Howard Hawks's Red River (1948) or further still to John Ford's My Darling Clementine (1946), but if we want to stick with this single decade, then it has to be one of a couple of films made in that era's initial year. One is \"The Gunfighter,\" an exquisitely grim tale of a famed gunslinger (Ringo) facing his last shootout. Another from that same year is \"Winchester '73,\" and it's worth noting that Millard Mitchell appears in both as grim, mustached, highly realistic range riders. In The Gunfighter, he's the town marshal expected to arrest Ringo but once rode with him in an outlaw gang. In Winchester, he's the sidekick to Jimmy Stewart, a kind of Horatio to Stewart's Hamlet in this epic/tragic tale. The plot is simple enough: Stewart's lonesome cowpoke wins a remarkable Winchester in a shooting match, beating the meanest man in the west (Stephen McNally), who is actually his own brother and caused the death of their father. When the brother steals the gun, Stewart and Mitchell go after him in a cowboy odyssey that takes them all across the frontier, meeting up with both outlaws and Indians. (In one wonderful bit, two future stars - Rock Hudson and Tony Curtis - play an Indian chief and a U.S. cavalry soldier - during a well staged pitched-battle. Dan Duryea steals the whole show as a giggling outlaw leader, while Shelly Winters, just before she began to gain weight, is fine as the shady lady who ties all the plots together. Today, filmmakers would go on for about four hours to bring such an ambitious idea to the screen, but Anthony Mann does so in an extremely economical amount of time, with not a minute wasted. Such western legends as Bat Masterson and Wyatt Earp (terrifically played by Will Geer) make brief appearances, adding to the historicity as well as the epic nature. The final battle between good and bad brothers, high atop a series of jutting rock canyons, is now legendary among western buffs. It's also worth noting that Stewart, however much associated he became with western films, does what is actually his first western leading man role here - yes, he was in Destry Rides Again eleven years earlier, but was cast in that comedy spoof because he seemed so WRONG for westerns!  \n",
            "neg\t979\tLet's see. In the \"St. Elsewhere\" finale we found out that there was no hospital and that every thing had been in the mind of an autistic child. \"Newhart\" ended by telling us that it had all been a dream. And \"Roseanne\" ended by telling us that it all had taken place in her mind. Very \"creative\". Annoying was more like it. Yes, it was just a TV show and wasn't at all reality. It's just that when you get caught up in a great movie or TV show you end up at least wanting to believe that it's all \"real\". At least as far as the reality it portrays on screen. This type of series finale had been done twice before and was old hat, frustrating and simply not fun to watch. Now \"Newhart\" being all a dream? At least done in a creative way that far exceeded the expectations of anyone who loved the show. The idea itself was not too engaging but it was so brilliantly done that its arguably the Best Series Finale Ever. Roseanne left me feeling cheated after being such a loyal fan.  \n",
            "neg\t492\tI chose \"Dead Creatures\" because I thought it was a zombies movie just like \"28 days\" or so... but not at all. It isn't even a horror movie. Nothing happens, except for a group of women that seem to have been infected by a strange virus that make her to eat human flesh in order to survive. <br /><br />That plot gives rise to a series of disgusting scenes of cannibalism...<br /><br />Very VERY BAD MOVIE.<br /><br />*My rate: 2/10<br /><br />------------------<br /><br />------------------  \n",
            "\n",
            "\n",
            "PyTorchText BuketIterator\n",
            "\n",
            "Batch size: 10\n",
            "\n",
            "LABEL\tLENGTH\tTEXT\n",
            "neg\t2045\tI'm kinda torn on DARK ANGEL. The film appears to be a \"loving\" tribute to the greatest pin-up to ever live - but there is so little actual \"content\" that the film itself is virtually pointless. I can't really see what the motivation or \"point\" of this film is - as there is very little biographical information provided in the narrative - so those who don't know much about Bettie aren't gonna know much more after watching DARK ANGEL either...<br /><br />The film basically chronicles the last few years of Bettie's career in bondage modeling. Almost the entire film is comprised of \"re-enactments\" of some of Bettie's more \"famous\" photo-shoots and loops. These re-enactments take up literally 75% of the films run-time, and give virtually no insight into Bettie as a person. The film touches briefly on her short-lived legitimate acting pursuits, and her subsequent decision to leave the \"business\" and become religious - but all of this is pretty much glossed-over in favor of showing long and drawn-out re-enactment scenes...<br /><br />DARK ANGEL isn't a horrible film - there's just no substance to it. The other problem is that the actress that plays Bettie only really resembles her in farther away shots - up-close it's a no-go. The other thing that irritated me, is that although Bettie did several topless modeling shoots - the only nudity in the film was a short segment shot in a zoo during the end credits. The film itself is obviously extremely low-budget, but does what it can set and costume-wise within it's limitations - so no gripes from me there. The acting is pretty wooden and unmemorable from everyone involved. In fact - the most memorable thing about the whole film for me, was noticing during the end credits that the actor who played Irving Klaw's real name is Dukey Flyswatter. No joke - check the cast list. Can't say that I recommend this one too highly unless you are a true Bettiefile completist and must own anything relating to her. And if you are that bad off - then you need to seek treatment anyway...4/10  \n",
            "pos\t2056\tJust saying you've got a movie about John Holmes is a guarantee to get some folks in front of the screen, but writer/director James Cox delivers oh so much more. A \"Rashamon\" of the sleazy Hollywood set, the film splitters the July 1981 Wonderland murders through a variety of angles (and film stocks), but mostly through the filter of John Holmes' coked out weasel brain. In a film full of bad guys Holmes is either the most vile, the most pathetic or both. Several versions of the story emerge and merge as Cox flashes jump cuts and twisting title cards amid effects and emoting. The dialogue is fast and naturalistic and never once rings false. While the film takes places two years after Holmes had fallen out of porn and into a truly wicked drug fueled depravity, Kilmer relentlessly exudes a sexuality so intense it can be measured in inches. This sexuality at its edges creates a sense of foreboding that hangs over the entire film almost as heavily as the violence at its center. Those murders are teased at through the whole film though are never clearly shown, not even at the climax,though the violence of them relentlessly infuses the whole picture and much blood is splattered across walls and crime scene photos. Once again Val Kilmer as Holmes shows he can act wacko better than anyone else working. Strutting, cringing, bragging or begging, Kilmer is constantly in character and the character is constantly a fascinating car wreck. Stand out performances beside Kilmer definitely include Ted Levine as the lead cop in the investigation and Lisa Kudrow as Holmes estranged wife. The trio of criminals Holmes falls in with include the frighteningly high energy Josh Lucas, the ever interesting Timothy Blake Nelson and an absolutely unrecognizable Dylan McDermott in a pivotal role as the teller yet another version of the murders. Cox suggests that no matter how much we learn about Wonderland, there is always a worse version possible, but looking through the debauchery surrounding it is much more fascinating than understanding the truth.  \n",
            "pos\t2065\t\"Cinderella\" is one of the most beloved of all Disney classics. And it really deserves its status. Based on the classic fairy-tale as told by Charles Perrault, the film follows the trials and tribulations of Cinderella, a good girl who is mistreated by her evil stepmother and equally unlikable stepsisters. When a royal ball is held and all eligible young women are invited (read: the King wants to get the Prince to marry), Cinderella is left at home whilst her stepmother takes her awful daughters with her. But there is a Fairy Godmother on hand...<br /><br />The story of \"Cinderella\" on its own wouldn't be able to pad out a feature, so whilst generally staying true to the story otherwise, the fairly incidental characters of the animals whom the Fairy Godmother uses to help get the title character to the ball become Cinderella's true sidekicks. The mice Jaq and Gus are the main sidekicks, and their own nemesis being the stepmother's cat Lucifer. Their antics intertwine generally with the main fairy-tale plot, and are for the most part wonderful. Admittedly, the film does slow down a bit between the main introduction of the characters and shortly before the stepsisters depart for the ball, but after this slowdown, the film really gets going again and surprisingly (since \"Cinderella\" is the most worn down story of all time, probably) ends up as one of the most involving Disney stories.<br /><br />The animation and art direction is lovely. All of the legendary Nine Old Men animated on this picture, and Mary Blair's colour styling and concept art (she also did concept art and colour styling for \"Alice in Wonderland\", \"Peter Pan\", \"The Three Caballeros\" and many many others) manage to wiggle their way on screen. The colours and designs are lovely, especially in the Fairy Godmother and ball scenes, as well as in those pretty little moments here and there.<br /><br />Overall, \"Cinderella\" ranks as one of the best Disney fairy-tales and comes recommended to young and all that embodies the Disney philosophy that dreams really can come true.  \n",
            "pos\t2081\tI could not agree more with the quote \"this is one of the best films ever made.\" If you think Vanilla Sky is simply a \"re-make,\" you could not be more wrong. There is tremendous depth in this film: visually, musically, and emotionally.<br /><br />Visually, because the film is soft and delicate at times (early scenes with Sofia) and at other times powerful and intense (Times Square, post-climactic scenes).<br /><br />The music and sounds tie into this movie so perfectly. Without the music, the story is only half told. Nancy Wilson created an emotional, yet eclectic, score for the film which could not be more suitable for such a dream-like theme (although never released, I was able to get my hands on the original score for about $60. If you look hard, you may be able to find a copy yourself). Crowe's other musical selections, such as The Beach Boys, Josh Rouse, Spiritualized, Sigur Ros, the Monkees, etcetera etcetera, are also perfect fits for the film (Crowe has an ear for great music).<br /><br />More importantly, the emotional themes in this film (i.e. love, sadness, regret) are very powerful, and are amplified tenfold by the visual and musical experience, as well as the ingenious dialogue; I admit, the elevator scene brings tears to my eyes time and time again.<br /><br />The best part of this film however (as if it could get any better) is that it is so intelligently crafted such that each time you see the film, you will catch something new--so watch closely, and be prepared to think! Sure, a theme becomes obvious after the first or second watch, but there is always more to the story than you think.<br /><br />This is easily Cameron Crowe's best work, and altogether a work of brilliance. Much of my film-making and musical inspiration comes from this work alone. It has honestly touched my life, as true art has a tendency of doing. It continually surprises me that there are many people that cannot appreciate this film for what it is (I guess to understand true art is an art itself).<br /><br />Bottom line: Vanilla Sky is in a league of its own.  \n",
            "neg\t2094\tI'm gettin' sick of movies that sound entertaining in a one-line synopsis then end up being equal to what you'd find in the bottom center of a compost heap.<br /><br />Who knows: \"Witchery\" may have sounded interesting in a pitch to the studios, even with a \"big name cast\" (like Blair and Hasselhoff - wink-wink, nudge-nudge) and the effervescent likes of Hildegard Knef (I dunno, some woman...).<br /><br />But on film, it just falls apart faster than a papier-mache sculpture in a rainstorm. Seems these unfortunate folks are trapped in an island mansion off the Eastern seaboard, and one of them (a woman, I'd guess) is being targeted by a satanic cult to bear the child of hell while the others are offed in grotesque, tortuous ways. <br /><br />Okay, right there you have a cross-section of plots from \"The Exorcist\", \"The Omen\", \"Ten Little Indians\" and a few other lesser movies in the satanic-worshippers-run-amok line. None of it is very entertaining and for the most part, you'll cringe your way from scene to scene until it's over.<br /><br />No, not even Linda Blair and David Hasselhoff help matters much. They're just in it to pick up a paycheck and don't seem very intent on giving it their \"all\". <br /><br />From the looks of it, Hasselhoff probably wishes he were back on the beack with Pam Anderson (and who can blame him?) and Linda... well, who knows; a celebrity PETA benefit or pro-am golf tour or whatever it is she's in to nowadays.<br /><br />And the torture scenes! Ecchhhh. You'll see people get their mouths sewn shut, dangled up inside roaring fireplaces, strung up in trees during a violent storm, vessels bursting out of their necks, etc, etc. Sheesh, and I thought \"Mark of the Devil\" was the most sadistic movie I'd seen....<br /><br />Don't bother. It's not worth your time. I can't believe I told you as much as I did. If you do watch it, just see if you can count the cliches. And yes, Blair gets possessed, as if you didn't see THAT coming down Main Street followed by a marching band.<br /><br />No stars. \"Witchery\" - these witches will give you itches.  \n",
            "pos\t2105\tSPOILERS<br /><br />In the words of Jean-Paul Sartre, \"Hell is other people\". In \"The Odd Couple\", Jack Lemmon and Walter Matthau demonstrate just how accurate this can be. As Felix Ungar and Oscar Madison, Lemmon and Matthau respectively create two good friends who decide to live together. As the two begin to slowly grow more and more frustrated with each other, the laughs come thick and fast, before Felix departs, leaving Oscar a changed and more cleanly individual.<br /><br />Jack Lemmon as Ungar is absolutely superb as the neurotic, cleaning obsessed divorcee coping with life as a single man. Walter Matthau in contrast to Lemmon's character is equally as good as the slobbish sports writer who simply wants to play poker to earn money for his child benefits.<br /><br />Lemmon and Matthau are magnificant in their selected parts, to some degree dependent upon the beautiful script by Neil Simon, and simultaneously because they work well as a team. As two friends who are inherently different in lifestyles, although similar in relationships with ex-wives and children, these two, late, great actors create a partnership which is practically impossible to recreate. So great in fact, that the world screamed out so much for something similar, that two years before Matthau's death and three before Lemmon's, the characters were reunited in an inferior sequel. This idea, whilst following Hollywood's irritating obsession with sequels, might have worked to a certain degree, but at the same time, it could never come close to replicating the genius of this original film.<br /><br />Ultimately it's not really possible to say anything else. With Simon's amazing script, filled with humour and laughter, the creators of this film were already onto a hit. The casting of Jack Lemmon and Walter Matthau as Felix Ungar and Oscar Madison though, is the most important part of this film. \"The Odd Couple\", with it's traditional soundtrack (which even gained a tribute in \"The Simpsons\"), it's excellent script and it's genius leading men, is a tribute to cinema and a feature for history to remember.  \n",
            "neg\t2110\tFirst off, this is no where near as bad as some of the other trash the Sci-Fi Channel has produced; that isn't to say that Grendel is a good film, in fact, it is very bad, but it definitely had potential to be a lot better. The flaws of the film come from character design, character, absurd additions to the story, the visual effects, the music, and for the most part: the acting.<br /><br />When speaking of character design, I, of course, mean the way our heroes and villains look. Beowulf and the other Danes seem like ridiculous Vikings, rather than warriors of brute strength -- that helmet our main protagonist wears is just too silly. Grendel looks like the Hulk but with strange tentacle-attachments to his elbows.<br /><br />The characters are very limited. Beowulf is same from beginning to end, however Finn -- a useless sidekick -- achieved some two-dimensionality, due thanks to his romantic subplot, and Unferth gets some notion as well, as he becomes less conceited.<br /><br />Much like Finn, there are useless additions to this story to make it its own, while still holding to the source material. The crossbow that is gifted to Beowulf is so ridiculous, I'm surprised the cast didn't walk off the set. Besides additions, there's omissions, such as the underlying themes of Christianity and Paganism, as well as the consequences of lying.<br /><br />The special effects are mighty terrible. Grendel and his mother Hag are poorly conceived, and as such, they're portrayal on screen is less than believable.<br /><br />The music is overbearing, especially when a character dies.<br /><br />All in all, this is not Sci-Fi's worst film to date. No. It is actually one of the better films, though trash it still it is, it is good trash, making it a guilty pleasure at best. The only thing that works is the dialogue, which is still wooden here and there.<br /><br />I highly recommend you skip this film and watch Robert Zemeckis' take on the ancient story of Beowulf, simply because this film (Grendel) is only half the tale, and not the whole thing, which garners this movie a three-star review.  \n",
            "neg\t2112\tAlthough there are a lot of familiar \"television\" names associated with \"A Man Called Sledge\", there is nothing extraordinary about the film itself or about any of the performances. In fact, the only thing that distinguishes it from a 1960's-70's television series like \"The Rat Patrol\" is a bigger cast and a lot more violence. <br /><br />James Garner is the biggest star and apparently thought he should try to break away from all the light comedy stuff he had been doing (\"Maverick\", \"Support Your Local Sheriff\"-\"Gunfighter\" etc.). Unfortunately his earthy likability works against him, as Sledge is a humorless character written to cash in on the popularity of Clint Eastwood's spaghetti western character. But Eastwood's stuff was not this flat and uninteresting.<br /><br />I suppose that \"A Man Called Sledge\" could be classified as a spaghetti western although the pacing is too slow to really fit that sub-genre. Fans of the slow-paced \"Combat\" television series will feel an instant connection as Vic Morrow directed the film and co-wrote the script with Frank Kowalski. Throw in some then trendy slow-mo shots and cross-dissolves, which call attention to themselves rather than serve a story-telling purpose. <br /><br />The plot is the standard \"big heist\" thing (insert \"The War Wagon\" here) with Sledge plotting how to heist a $300,000 gold shipment. His gang includes Claude Akins and Dennis Weaver. The problem is that while on the move the shipment is guarded by 40 outriders and while stopped it is locked in a vault inside the territorial prison. I think there was an episode of \"Alias Smith and Jones\" with the same plot.<br /><br />The story would make a decent hour of television but gets old very fast as a very padded feature length film. Garner does not allow any of his charm to leak into his characterization and the film does not generate enough suspense to hold a viewer's interest.<br /><br />The thing finally crashes and burns shortly after the heist when the gang engages in a contrived and totally illogical card game. <br /><br />Then again, what do I know? I'm only a child.  \n",
            "pos\t2112\tA dying Kung Fu master sends out his last student in order to track down what happened to the previous five students who were members of the banned Poison Clan.He is to see if they are acting for good and if not he his to stop them The master also wants the student to find another member of the clan who ran off with the clans money which the master wants used for good. The earlier students were all taught in a different style snake, centipede, scorpion, lizard, toad, while the last student was taught a little in each style. All of the students end up in one town looking for the old man with all of the money,and soon everyone is battling to get the money.<br /><br />Classic martial arts film has title that even many non-fans know. I've spoken with a couple of casual fans and this seems to be the one film that sticks in their head. Its a very good movie, though I'm not really sure why this film stays with people when for my money there are other films that are better from the Shaw studio (One armed Swordmen or the Brave Archer series for example). This isn't to sell the film short, its not, since the film is structured like a mystery, our hero has no clue who anyone is and the Venoms themselves only know at best who two of the others is. We're given the identity of four but we still have to work out who the fifth really is. The film is also odd in that for a martial arts film, other than a training sequence at the start and the killing of the old man and his family for the money, there is really no action for about 40 or 45 minutes. Its a bold move to do it but it pays off since the plot and the performances hold your attention. (The film is also odd in that its the first martial arts film I think I've ever seen where there are no women. I don't think one has a speaking role and I'm pretty sure that none appear in the background. Its indicative of nothing, its just something that struck me.) This is a good solid little film that may not live up to the reputation it has in some circles, but is still a really good film to curl up with on your couch.<br /><br />Around 7 out of 10.  \n",
            "pos\t2116\tI really, really enjoyed watching this movie! At first, seeing its poster I thought it was just another easy romantic comedy ... but it is simply more than this! I personally believe that this idea (that I'm sure a good part of the viewers had just before they saw the movie) it's yet another important part of the big concept of this movie itself (or even of its marketing strategy)! What I mean is: Nowadays we are slaves to images! To impressions! I went to the cinema to view this film having the wrong impression, the wrong expectations, and at the end I felt how superficial I could be! To exemplify it comes to my mind the sequence near the end in which Sidney buys the plane ticket to go back to New York and as he is asked to 'give an autograph', meaning to sign for the ticket, he believes that just because he got on TV thanks to the scandal at the awards he is now some kind of celebrity. And this is just, I believe, the climax of this main theme around which the movies revolves. Above this, I believe the movie also offers us a solution to get along with this, illustrated throughout the movie by Sidney's attitude: don't become too serious about yourself or about anybody else ... \"even saints were people in the beginning\" ... as Sophie once says in the movie. The saints of the moment are the stars. We attribute them an 'aura' of perfection, of eternal happiness, but the reality is much less than that. Even the saints of any religion are images, ideal models of how to behave and how to live your life. Even they were not for real ... they became 'for real' after they died and we looked back at them. And that's the catch: we need our saints! we need our stars! We strive for them as if it wasn't for them we wouldn't have anything to strive for. And television and all other media are means to create and capture our strivings. We desperately need benchmarks in regard to which to measure ourselves. And that's how we got in the cinema to watch this movie in the first place: to see if we can fit the benchmark, or if the benchmark is to small for us. This time it was larger than we expected.  \n",
            "\n",
            "\n"
          ],
          "name": "stdout"
        }
      ]
    },
    {
      "cell_type": "markdown",
      "metadata": {
        "id": "2IEb5wL9Qudr"
      },
      "source": [
        "### Train Loop Examples\n",
        "\n",
        "Now let's look at a model training loop woudl look like. I printed the first 10 batches list of examples lengths to show how nicely they are grouped throughout the dataset!"
      ]
    },
    {
      "cell_type": "code",
      "metadata": {
        "id": "5oCIpdJCQwqZ",
        "outputId": "bf96e155-8c3a-4c62-a85c-db973cd2b044",
        "colab": {
          "base_uri": "https://localhost:8080/"
        }
      },
      "source": [
        "# Example of number of epochs\n",
        "epochs = 1\n",
        "\n",
        "# Example of loop through each epoch\n",
        "for epoch in range(epochs):\n",
        "\n",
        "  # Create batches - needs to be called before each loop.\n",
        "  torchtext_train_dataloader.create_batches()\n",
        "\n",
        "  # Loop through BucketIterator.\n",
        "  for sample_id, batch in enumerate(torchtext_train_dataloader.batches):\n",
        "    print('Batch exmaples lengths: %s'.ljust(20) % str([len(example['text']) for example in batch]))\n",
        "\n",
        "    # Let's break early, you get the idea.\n",
        "    if sample_id == 10:\n",
        "      break"
      ],
      "execution_count": 63,
      "outputs": [
        {
          "output_type": "stream",
          "text": [
            "Batch exmaples lengths: [3208, 3222, 3230, 3294, 3302, 3351, 3359, 3366, 3382, 3417]\n",
            "Batch exmaples lengths: [731, 733, 734, 734, 735, 735, 736, 736, 736, 737]\n",
            "Batch exmaples lengths: [780, 781, 781, 783, 783, 783, 783, 783, 784, 785]\n",
            "Batch exmaples lengths: [1036, 1036, 1037, 1038, 1039, 1040, 1045, 1050, 1051, 1052]\n",
            "Batch exmaples lengths: [994, 994, 995, 996, 997, 1000, 1001, 1005, 1005, 1006]\n",
            "Batch exmaples lengths: [930, 930, 932, 933, 945, 950, 951, 951, 953, 955]\n",
            "Batch exmaples lengths: [1334, 1335, 1338, 1338, 1341, 1341, 1343, 1352, 1353, 1355]\n",
            "Batch exmaples lengths: [2839, 2840, 2853, 2877, 2887, 2892, 2901, 2915, 2930, 2936]\n",
            "Batch exmaples lengths: [289, 292, 295, 295, 297, 301, 304, 308, 309, 310]\n",
            "Batch exmaples lengths: [513, 517, 518, 526, 526, 527, 528, 529, 534, 535]\n",
            "Batch exmaples lengths: [232, 239, 240, 240, 243, 244, 246, 248, 255, 257]\n"
          ],
          "name": "stdout"
        }
      ]
    },
    {
      "cell_type": "markdown",
      "metadata": {
        "id": "POrx0_EuImpM"
      },
      "source": [
        "## Using PyTorchText TabularDataset\n",
        "\n",
        "Now I will use the TabularDataset functionality which creates out PyTorchDataset straing from local files. \n",
        "\n",
        "We don't need to create a custom PyTorch Dataset class to load our dataset as long as we have tabular files of our data."
      ]
    },
    {
      "cell_type": "markdown",
      "metadata": {
        "id": "SGNgKXkq5X8f"
      },
      "source": [
        "### Data to Files\n",
        "\n",
        "Since our dataset is scattered in multiple files, I created a function `files_to_tsv` which puts our dataset into a `.tsv` file (Tab-Separated Values)\n",
        "\n",
        "I've created the **file_tsv** function in order to concatenate all text files into a single `.tsv` file.\n",
        "\n",
        "Since I'll use the **TabularDataset** from `pytorch.data` I need to pass tabular format file.\n",
        "\n",
        "For text data I find the Tab Separated Values format easier to deal with.\n",
        "\n",
        "I will call the **files_to_tsv** function for each of the two partitions **train** and **test**. \n",
        "\n",
        "The function will return the name of the `.tsv` file saved so we can use it later in PyTorchText."
      ]
    },
    {
      "cell_type": "code",
      "metadata": {
        "id": "sn8cBvTx0NLr",
        "outputId": "1b559e65-6264-421e-855d-5de2ab8ab8dd",
        "colab": {
          "base_uri": "https://localhost:8080/",
          "height": 247,
          "referenced_widgets": [
            "da09e310129e4851a616f4bf5e964fbf",
            "ae72e62369234928a7dd35bd6a3b5ad8",
            "8f43d50717784a4e8d94ad781c5ed347",
            "9f0048d3c1234194a119cde8346a16a7",
            "e9b15e66116248ddb39e1bde4db47715",
            "dcc77a039e624a13bd0d338f8745cf73",
            "1face3ee08304f399779db8848234ddf",
            "fa609bb4d84742e1916d4edf038a4360",
            "fce2d470c5904ea0af824659d3a62be1",
            "ba0eacfa389942c0be0682e0e2ec1a1a",
            "53f7affef6a0470eb1a00ab92b7f32d6",
            "4da5c0b42df44d98bd49caee01a4b13a",
            "e547697e00e345b69e4f115f262859ee",
            "74e8ef5137d44038b4d7fc3b2b374a9d",
            "08992322ed48407b98dead3c437508fd",
            "aa74337e6df7456689b806fec4a93f3d",
            "759cba0a404d489dbb184e4fb200c280",
            "0bbbf8dea24b4db99502ff03fe4deca8",
            "7516526db49f4a8dade530a88d56a451",
            "95e2edba30344f5b90c822ec500e91a0",
            "10357831f4ef483d8bebedd302994dba",
            "5f9e91ed3df64991b018121c6990b343",
            "d54e99ab3a0849fb984f6d20f3113e5d",
            "b7036eb8d6e84347badd2a871b83d8f0",
            "20b455acca3c4a5295ee96677cad8a21",
            "6d1902fcd23b42a4b1ed9ed245925649",
            "8708969a67674267b8081e446380197d",
            "1ec07bd0793e4ff2a579b6b2be4274b8",
            "59ee69d5f72f473ebffabf3f5b520544",
            "097800a7c8864a64927d0302c58ec47b",
            "b4e9b60afb0047a8aba77c36236ae783",
            "39270b7674c042b9b51499492b30a915"
          ]
        }
      },
      "source": [
        "def files_to_tsv(partition_path, save_path='./'):\n",
        "  \"\"\"Parse each file in partition and keep track of sentiments.\n",
        "  Create a list of paris [tag, text]\n",
        "\n",
        "  Arguments:\n",
        "\n",
        "    partition_path (:obj:`str`):\n",
        "      Partition used: train or test.\n",
        "\n",
        "    save_path (:obj:`str`):\n",
        "      Path where to save the final .tsv file.\n",
        "\n",
        "  Returns:\n",
        "\n",
        "    :obj:`str`: Filename of created .tsv file.\n",
        "\n",
        "  \"\"\"\n",
        "\n",
        "  # List of all examples in format [tag, text].\n",
        "  examples = []\n",
        "\n",
        "  # Print partition.\n",
        "  print(partition_path)\n",
        "\n",
        "  # Loop through each sentiment.\n",
        "  for sentiment in ['pos', 'neg']:\n",
        "\n",
        "    # Find path for sentiment.\n",
        "    sentiment_path = os.path.join(partition_path, sentiment)\n",
        "\n",
        "    # Get all files from path sentiment.\n",
        "    files_names = os.listdir(sentiment_path)\n",
        "\n",
        "    # For each file in path sentiment.\n",
        "    for file_name in tqdm(files_names, desc=f'{sentiment} Files'):\n",
        "\n",
        "      # Get file content.\n",
        "      file_content = io.open(os.path.join(sentiment_path, file_name), mode='r', encoding='utf-8').read()\n",
        "\n",
        "      # Fix any format errors.\n",
        "      file_content = fix_text(file_content)\n",
        "\n",
        "      # Append sentiment and file content.\n",
        "      examples.append([sentiment, file_content])\n",
        "\n",
        "  # Create a TSV file with same format `sentiment  text`.\n",
        "  examples = [\"%s\\t%s\"%(example[0], example[1]) for example in examples]\n",
        "\n",
        "  # Create file name.\n",
        "  tsv_filename = os.path.basename(partition_path) + '_pos_neg_%d.tsv'%len(examples)\n",
        "\n",
        "  # Write to TSV file.\n",
        "  io.open(os.path.join(save_path, tsv_filename), mode='w', encoding='utf-8').write('\\n'.join(examples))\n",
        "\n",
        "  # Return TSV file name.\n",
        "  return tsv_filename\n",
        "  \n",
        "\n",
        "# Path where to save tsv file.\n",
        "data_path = '/content'\n",
        "\n",
        "# Convert train files to tsv file.\n",
        "train_filename = files_to_tsv(partition_path='/content/aclImdb/train', save_path=data_path)\n",
        "\n",
        "# Convert test files to tsv file.\n",
        "test_filename = files_to_tsv(partition_path='/content/aclImdb/test', save_path=data_path)"
      ],
      "execution_count": 64,
      "outputs": [
        {
          "output_type": "stream",
          "text": [
            "/content/aclImdb/train\n"
          ],
          "name": "stdout"
        },
        {
          "output_type": "display_data",
          "data": {
            "application/vnd.jupyter.widget-view+json": {
              "model_id": "da09e310129e4851a616f4bf5e964fbf",
              "version_minor": 0,
              "version_major": 2
            },
            "text/plain": [
              "HBox(children=(FloatProgress(value=0.0, description='pos Files', max=12500.0, style=ProgressStyle(description_…"
            ]
          },
          "metadata": {
            "tags": []
          }
        },
        {
          "output_type": "stream",
          "text": [
            "\n"
          ],
          "name": "stdout"
        },
        {
          "output_type": "display_data",
          "data": {
            "application/vnd.jupyter.widget-view+json": {
              "model_id": "fce2d470c5904ea0af824659d3a62be1",
              "version_minor": 0,
              "version_major": 2
            },
            "text/plain": [
              "HBox(children=(FloatProgress(value=0.0, description='neg Files', max=12500.0, style=ProgressStyle(description_…"
            ]
          },
          "metadata": {
            "tags": []
          }
        },
        {
          "output_type": "stream",
          "text": [
            "\n",
            "/content/aclImdb/test\n"
          ],
          "name": "stdout"
        },
        {
          "output_type": "display_data",
          "data": {
            "application/vnd.jupyter.widget-view+json": {
              "model_id": "759cba0a404d489dbb184e4fb200c280",
              "version_minor": 0,
              "version_major": 2
            },
            "text/plain": [
              "HBox(children=(FloatProgress(value=0.0, description='pos Files', max=12500.0, style=ProgressStyle(description_…"
            ]
          },
          "metadata": {
            "tags": []
          }
        },
        {
          "output_type": "stream",
          "text": [
            "\n"
          ],
          "name": "stdout"
        },
        {
          "output_type": "display_data",
          "data": {
            "application/vnd.jupyter.widget-view+json": {
              "model_id": "20b455acca3c4a5295ee96677cad8a21",
              "version_minor": 0,
              "version_major": 2
            },
            "text/plain": [
              "HBox(children=(FloatProgress(value=0.0, description='neg Files', max=12500.0, style=ProgressStyle(description_…"
            ]
          },
          "metadata": {
            "tags": []
          }
        },
        {
          "output_type": "stream",
          "text": [
            "\n"
          ],
          "name": "stdout"
        }
      ]
    },
    {
      "cell_type": "markdown",
      "metadata": {
        "id": "l8rfZyyp4tGR"
      },
      "source": [
        "### TabularDataset\n",
        "\n",
        "Here I setup data fields for PyTorchText. We have to tell the library how to handle each column of the `.tsv` file. For this we need to create `data.Field` objects for each column.\n",
        "\n",
        "`text_tokenizer`: \n",
        "For this example I don't use an actual tokenizer for the `text` column but I need to create one because it requires as input. Depending on the project, here is where you will have your own tokenizer. It needs to take as input text and output a list.\n",
        "\n",
        "`label_tokenizer`\n",
        "The label tokenizer is also a dummy tokenizer. This is where you will have a encoder to transform labels to ids.\n",
        "\n",
        "Since we have two `.tsv` files it's great that we can use the `.split` function from **TabularDataset** to handle two files at the same time one for train and the other one for test.\n",
        "\n",
        "Find more details about **torchtext.data** functionality [here](https://torchtext.readthedocs.io/en/latest/data.html#dataset-batch-and-example)."
      ]
    },
    {
      "cell_type": "code",
      "metadata": {
        "id": "dhaX2V5N3Y4V"
      },
      "source": [
        "# Text tokenizer function - dummy tokenizer to return same text.\n",
        "# Here you will use your own tokenizer.\n",
        "text_tokenizer = lambda x : x\n",
        "\n",
        "# Label tokenizer - dummy label encoder that returns same label.\n",
        "# Here you will add your own label encoder.\n",
        "label_tokenizer = lambda x: x\n",
        "\n",
        "# Data fiels for text column - invoke tokenizer.\n",
        "TEXT = torchtext.data.Field(sequential=True, tokenize=text_tokenizer, lower=False)\n",
        "\n",
        "# Data field for labels - invoke tokenize label encoder.\n",
        "LABEL = torchtext.data.Field(sequential=True, tokenize=label_tokenizer, use_vocab=False)\n",
        "\n",
        "# Create data fields at tuples of description variable and data fiels.\n",
        "datafields = [(\"label\", LABEL),\n",
        "              (\"text\", TEXT)]\n",
        "\n",
        "# Since we have have tab separated data we use TabularDataset\n",
        "train_dataset, valid_dataset = torchtext.data.TabularDataset.splits(\n",
        "    \n",
        "                                                # Path to train and validation.\n",
        "                                                path=data_path,\n",
        "\n",
        "                                                # Train data filename.\n",
        "                                                train=train_filename,\n",
        "\n",
        "                                                # Validation file name.\n",
        "                                                validation=test_filename,\n",
        "\n",
        "                                                # Format of loval files.\n",
        "                                                format='tsv',\n",
        "\n",
        "                                                # Check if we have header.\n",
        "                                                skip_header=False,\n",
        "\n",
        "                                                # How to handle fields.\n",
        "                                                fields=datafields)"
      ],
      "execution_count": 68,
      "outputs": []
    },
    {
      "cell_type": "markdown",
      "metadata": {
        "id": "fsmI67Ly4zkc"
      },
      "source": [
        "### PyTorchText Bucket Iterator Dataloader\n",
        "\n",
        "I'm using same setup as in the **PyTorchText Bucket Iterator Dataloader** code cell section. The only difference is in the `sort_key` since there is adifferent way to access an example attributes (before we had dictionary format)."
      ]
    },
    {
      "cell_type": "code",
      "metadata": {
        "id": "50Uno-i7Pwor",
        "outputId": "7cfe4a00-16e0-4ad6-bdb2-f4e7905e7c78",
        "colab": {
          "base_uri": "https://localhost:8080/"
        }
      },
      "source": [
        "# Group similar length text sequences together in batches.\n",
        "torchtext_train_dataloader, torchtext_valid_dataloader = torchtext.data.BucketIterator.splits(\n",
        "    \n",
        "                              # Datasets for iterator to draw data from\n",
        "                              (train_dataset, valid_dataset),\n",
        "\n",
        "                              # Tuple of train and validation batch sizes.\n",
        "                              batch_sizes=(train_batch_size, valid_batch_size),\n",
        "\n",
        "                              # Device to load batches on.\n",
        "                              device=device, \n",
        "\n",
        "                              # Function to use for sorting examples.\n",
        "                              sort_key=lambda x: len(x.text),\n",
        "\n",
        "\n",
        "                              # Repeat the iterator for multiple epochs.\n",
        "                              repeat=True, \n",
        "\n",
        "                              # Sort all examples in data using `sort_key`.\n",
        "                              sort=False, \n",
        "\n",
        "                              # Shuffle data on each epoch run.\n",
        "                              shuffle=True,\n",
        "\n",
        "                              # Use `sort_key` to sort examples in each batch.\n",
        "                              sort_within_batch=True,\n",
        "                              )\n",
        "\n",
        "# Print number of batches in each split.\n",
        "print('Created `torchtext_train_dataloader` with %d batches!'%len(torchtext_train_dataloader))\n",
        "print('Created `torchtext_valid_dataloader` with %d batches!'%len(torchtext_valid_dataloader))"
      ],
      "execution_count": 69,
      "outputs": [
        {
          "output_type": "stream",
          "text": [
            "Created `torchtext_train_dataloader` with 2500 batches!\n",
            "Created `torchtext_valid_dataloader` with 1250 batches!\n"
          ],
          "name": "stdout"
        }
      ]
    },
    {
      "cell_type": "markdown",
      "metadata": {
        "id": "h2bJtSlW42Fo"
      },
      "source": [
        "### Compare DataLoaders\n",
        "\n",
        "Let's compare the PyTorch DataLoader batches with the PyTorchText BucketIterator batches created with TabularDataset. We can see how nicely examples of similar length are grouped in same batch with PyTorchText.\n",
        "\n",
        "**Note:** *When using the PyTorchText BucketIterator, make sure to call `create_batches()` before looping through each batch! Else you won't get any output form the iterator.*"
      ]
    },
    {
      "cell_type": "code",
      "metadata": {
        "id": "U7oII00Xz7e5",
        "outputId": "542a3d7e-c809-48b0-a48f-154f4552c672",
        "colab": {
          "base_uri": "https://localhost:8080/"
        }
      },
      "source": [
        "# Loop through regular dataloader.\n",
        "print('PyTorch DataLoader\\n')\n",
        "for batch in torch_train_dataloader:\n",
        "  \n",
        "  # Let's check batch size.\n",
        "  print('Batch size: %d\\n'% len(batch['text']))\n",
        "  print('LABEL\\tLENGTH\\tTEXT'.ljust(10))\n",
        "\n",
        "  # Print each example.\n",
        "  for text, label in zip(batch['text'], batch['label']):\n",
        "    print('%s\\t%d\\t%s'.ljust(10) % (label, len(text), text))\n",
        "  print('\\n')\n",
        "  \n",
        "  # Only look at first batch. Reuse this code in training models.\n",
        "  break\n",
        "  \n",
        "\n",
        "# Create batches - needs to be called before each loop.\n",
        "torchtext_train_dataloader.create_batches()\n",
        "\n",
        "# Loop through BucketIterator.\n",
        "print('PyTorchText BuketIterator\\n')\n",
        "for batch in torchtext_train_dataloader.batches:\n",
        "\n",
        "  # Let's check batch size.\n",
        "  print('Batch size: %d\\n'% len(batch))\n",
        "  print('LABEL\\tLENGTH\\tTEXT'.ljust(10))\n",
        "  \n",
        "  # Print each example.\n",
        "  for example in batch:\n",
        "    print('%s\\t%d\\t%s'.ljust(10) % (example.label, len(example.text), example.text))\n",
        "  print('\\n')\n",
        "  \n",
        "  # Only look at first batch. Reuse this code in training models.\n",
        "  break"
      ],
      "execution_count": 72,
      "outputs": [
        {
          "output_type": "stream",
          "text": [
            "PyTorch DataLoader\n",
            "\n",
            "Batch size: 10\n",
            "\n",
            "LABEL\tLENGTH\tTEXT\n",
            "pos\t1770\tHOLLOW MAN is one of the better horror films of the past decade. The sub-plot is original and the main plot is even better. The special effects are brilliant and possibly the best I have ever seen in a horror film. Kevin Bacon proves again that he can handle any role that comes his way.<br /><br />Claude Rains shocked the world with THE INVISIBLE MAN in 1933, well now, Kevin Bacon has shocked *us* with HOLLOW MAN. One of the most thrilling horror films ever. The action is intense and the chills are true. You may actually find yourself jumping if you are watching it in the dark on a stormy night. The supporting cast includes Elizabeth Shue, Josh Brolin, Kim Dickens, Joey Slotnick, Greg Grunberg, and Mary Randle. All of whom do an exceptional job. <br /><br />---SPOILERS---<br /><br />Dr. Sebastian Caine (Kevin Bacon) and his team have discovered the secret to making someone invisible. After animal testings, they move on to human testing. But someone has to be the subject. Volenteering, Caine is turned invisible. But when his team is unable to bring back into visibility, Caine is driven mad by his condition as he seeks his revenge...*end spoilers*<br /><br />The film has created memorable shock sequences and is destined to become a classic well into the next century. Becoming the basis for a spoof joke in SCARY MOVIE 2, this film grabs you by the throat and never lets go. The first 45 minutes or so are slow, developing the characters and showing how their experiments work. The second half is exciting and appealing to most action and horror fans. Think of DEEP BLUE SEA. Then change the sharks into an crazy invisible man. And then change the water into fire and explosions. A rehashing of a killer shark movie. Interesting... HOLLOW MAN gets 5/5.  \n",
            "pos\t1280\tThis movie is one for the ages. First, I have to say after seeing this once, it became one of my all-time favorite movies. Why? Simple; Ben Coccio (writer, director)has put together a true piece of art. Where 99.9% of movies these days are purely entertainment, director Ben Coccio gives us truth, gives us reality, gives us a learning tool to know why this happened. The mainstream media spins and spins but Ben Coccio looks school shootings right in the face, able to go where no other form of media has EVER gone before, into the minds and hearts of two young men planning to kill their classmates. While it surely is graphic and horrifying, how couldn't it be? The gloves come off, the lies and the sugar coating of our media masters is brushed aside and we are taken to a place where we can find truth in what happened. Sometimes it isn't just a screw loose like everyone likes to think, no, sometimes hatred and isolation are deeper, are more human, we are shown that these boys are us and we them. Society left them behind and the consequences are horrifying and real.<br /><br />Respect and love your fellow man. A lesson we all should learn, thank you so much for making this film Mr. Coccio, I hope with great anticipation that you will continue your film-making career.  \n",
            "neg\t968\tI am so confused. What in the world was this movie about? What was the killer's motivation? He seemed quite angry, but I have yet to figure out why. Nothing in this movie made sense. It had zero depth. Or less than zero depth. Which I guess would make it a hill. Or a pile. Of crap. The acting was horrible. When I searched for a few of the actors in this movie, they had been in very few things that I had heard of, and that came as absolutely no surprise. I can't decide whether to feel sorry for them for the embarrassment of being in a movie this bad, or to feel that they should never be offered another acting job again. Starting . . . NOW! (Seinfeld reference.) Really, though, don't waste your time with this. There's so little substance that there's nothing there even just to make fun of. This was undoubtedly one of the worst slasher flicks -- NO, one of the worst flicks of ANY KIND, that I have ever had the misfortune to watch, and I've seen quite a few.  \n",
            "neg\t1665\tOh, dear lord.... They've turned what was a fairly thought provoking movie into a swaggering testosterone fest.<br /><br />The original 1971 version of this movie was beautifully vague about our hero Kowalski. He was a man trying to drive from Denver to San Fransisco to win a bet. Why was he willing to risk his life for the price of a handful of uppers? We're not really sure.<br /><br />We had a few flashbacks that gave us the picture that he was an adrenaline junkie, and presumably he had led his entire life trying to make it to the vanishing point. That point you see off in the distance where the left and right shoulders of the road come together, and the road itself vanishes. He lives only to be free, and means no ill on anyone. We saw several times when there were accidents he stopped to make sure the other driver was okay before moving on, even the cops that were chasing him.<br /><br />When he saw the futility of his quest he took his life rather than be arrested and live a life of captivity. He died like he lived, running wide open.<br /><br />In the remake Kowalski has a whole history (including a first name, even.) He's trying to get to the hospital where his wife is suffering from complications to her pregnancy. He is a devoted husband, and excited expectant father. He comes to the decision to take his life after hearing his wife died in delivery, but they even leave THAT in question when they suggest that he may have jumped out of the car before it ran into the bulldozers. They even gave the part of \"super soul,\" the blind DJ (brilliantly portrayed by Clevon Little in the original) to JASON PRIESTLY?!?!?!?!?!? Give me a break.  \n",
            "pos\t503\tThis is a strong movie from a historical and epic perspective. While the story is simple it is pure and straightforward. In truth, it is the standard story of a simple, honorable man whose honor comes into conflict with the more educated and wealthier men of the period.<br /><br />Poor vs. Rich, honorable vs. dishonorable, a classic but well-told tale without much of the glitz of hollywood stinking up the screen.<br /><br />Extra points just because you can almost smell the people on the screen. :)  \n",
            "neg\t353\tWow, a movie about NYC politics seemingly written by someone who has never set foot in NYC. You know there's a problem when at one moment you expect the credits to roll and the movie continues on for another half hour. The characters are boring, John Cusack's accent is laughable, and the plotline teeters between boring and laughable. A horrible movie.  \n",
            "neg\t685\tMy first clue about how bad this was going to be was when the video case said it was from the people who brought us Blair Witch Project which was a masterpiece in comparison to this piece of garbage. The acting was on the caliber of a 6th grade production of Oklahoma and the plot, such as there was, is predictable, boring and inane. 85% of the script is four letter words and innumerable variations on them. Mother F seems to be the \"writer's\" favorite because it is used constantly. It must have taken all of 10 minutes to write this script in some dive at last call. Thank God I rented it and could jump through most of it on fast forward. Don't waste your time or money with this.  \n",
            "neg\t844\t0*'s Christian Slater, Tara Reid, Stephen Dorff, Frank C. Turner, Mathew Walker, Will Sanderson. Directed by Uwe Boll.<br /><br />Based on the video game director Uwe Boll attempts to recreate the game into an action-packed nail biter sadly he doesn't succeed. Instead he makes one of the worst movies ever MADE! Even though he gets minor celebrity such as Christian Slater, Tara Reid and Stephen Dorff his movie lacks the necessary fundamentals that a movie needs to be good such as a story line, and some basic relativity of what's going on in the dark and the light. The movie bounces all around and Uwe Boll has no creative control. And not to mention the bad CGI used on making the monsters. Even though they did look cool and the feedings were well, a little lame. Honestly this is one of the worst movies ever made. My final rating 0/10.  \n",
            "neg\t821\tSusan Swift is an appealing youngster, a flower child transplanted to the 1980's (like a young Susan Dey), but she doesn't quite have the vocal range for a demanding dramatic lead and she tends to whine; still, she's rather sweet and has bright eyes and a pretty smile. In \"The Coming\" (as it was called when briefly released to theaters), Swift may be the reincarnation of a Salem witch. The flick is very low-budget and borrows from so many other pictures that I gave up on it with about 15 minutes to go. It starts out strong and has some camp appeal. Obviously, there are more serious films that deal with the Salem witch trials that deserve to be seen over this one; however, as junk movies go, it isn't too terrible. The Boston locales are a definite plus, and the supporting cast is amusingly hammy. *1/2 from ****  \n",
            "pos\t730\t\"Against All Flags\" is every bit the classic swashbuckler. It has all the elements the adventure fan could hope for and more for in this one, the damsel in distress is, well, not really in distress. As Spitfire Stevens, Maureen O'Hara is at her athletic best, running her foes through in defiance of the social norms of the period. Anthony Quinn rounds out the top three billed actors as the ruthless Captain Roc Brasiliano and proves to be a wily and capable nemesis for Brian Hawke (Flynn). For the classic adventure fan, \"Against All Flags\" is a must-see. While it may not be in quite the same league as some of Errol Flynn's earlier work (Captain Blood and The Sea Hawk, for instance), it is still a greatly entertaining romp.  \n",
            "\n",
            "\n",
            "PyTorchText BuketIterator\n",
            "\n",
            "Batch size: 10\n",
            "\n",
            "LABEL\tLENGTH\tTEXT\n",
            "neg\t717\tSix different couples. Six different love stories. Six different love angles. Eighty numbers of audience in the movie theater. Looking at the eighty different parts of the silver screen.<br /><br />I am sitting in somewhere between them looking at the center of the screen to find out what's going on in the movie. All stories have got no link with each other, but somewhere down the line Nikhil Advani trying to show some relation between them. I tried to find out a few lines I could write as review but at the end of 3 hours 15 minutes found nothing to write. The movie is a poor copy of Hollywood blockbuster LOVE ACTUALLY.<br /><br />My suggestion. Don't watch the movie if you really want to watch a nice movie.  \n",
            "neg\t718\tMeatball Machine has got to be one of the most complex ridiculous, awful and over-exaggerated sci-fi horror films that I have ever came across. It is about good against evil and a coming-of-age tale, with the aim of to entertain with bloody, sleazy and humorous context. Because of that the violence isn't particularly gruesome and it doesn't make you squirm, but the gratuitous bloodletting and nudity does run freely. The performances by Issei Takahashi and Toru Tezuka is the worst i have seen, if that was not enough it is also directed by an unheard of director called Yudai Yamaguchi. This movie just have it all, it is bad to the bone!, A must see for every b-movie freak!!!... Simply: an enjoying and rare gem.  \n",
            "pos\t718\tWhile I suppose this film could get the rap as being Anti-Vietnam, while watching it I didn't feel that such was the case as much as the film was simply an honest look into the perspective of the young guys being trained for a war that the public didn't support.... it showed their fear, their desperation, their drive... all of it, out in the open, naked. As a soldier myself alot of the themes rang true to me in my experience in the military - especially boot camp. On the whole this movie, although it was shot on a very small budget, looks great, is very well put together, and features excellent acting and directing. I highly recommend this film to anyone looking for another excellent Colin Farrell film. 10/10  \n",
            "pos\t718\tin one of Neil Simon's best plays. Creaky, cranky ex-Vaudeville stars played by Walter Matthau and George Burns are teaming up for a TV comedy special. The problem is they haven't even SEEN each other in over a decade. Full of zippy one liners and inside showbiz jokes, this story flies along with a steady stream of humor. Good work also by Richard Benjamin as the harried nephew, Rosetta LeNoire as the nurse, and Howard Hesseman as the TV commercial director. Steve Allen and Phyllis Diller appear as themselves. Trivia note: The opening montage contains footage from Hollywood Revue of 1929 and shows Marie Dressler, Bessie Love, Polly Moran, Cliff Edwards, Charles King, Gus Edwards, and the singing Brox Sisters.  \n",
            "neg\t719\tThis show is painful to watch ...<br /><br />It is obvious that the creators had no clue what to do with this show, from the ever changing \"jobs\", boyfriends, and cast. It appears that they wanted to cast Amanda Bynes in something ... but had no idea what, and came up with this crappy show. They cast her as a teen, surrounded by twenty and thirty somethings, and put her in mostly adult situations at repeatedly failed attempts at comedy. Soon, they realize that she needs a \"clique\" and cast people in their late 20s to try to pass as teenagers.<br /><br />How this show survived 4 seasons is beyond me. Somehow, ABC has now decided that it is a \"family\" show, and thrown it into it's afternoon lineup on ABC Family.  \n",
            "neg\t720\t***Possible Spoilers***<br /><br />When I saw this today I had some expectation of how it would be like, not too high, but not low either. This was nothing like I expected at all though, it seems to me like the movie makers couldn't make up their mind of what kind of movie to make.<br /><br />In the begining of the film it's somewhat mysterious and kinda exciting, but that'll soon change to some ridiculous scenes - very obvious scenes... As I watched further I almost fell asleep a couple of times.<br /><br />The ending is the most ridiculous of all though, almost splatter/comedy...<br /><br />I'm not saying it doesn't have some good scenes it's just that the film never becomes \"whole\".<br /><br />4/10 Movie-Man  \n",
            "pos\t720\tNot only is this a great African-American classic comedy, but one of many great American cult classics.I have recently purchased the collection edition of Rudy Ray Moore.If you love the old school karate movies and black comedies, this is for you! They don't make movies like these anymore. My entire family are movie buffs, so this site is an extreme help on solving many debates. I am deployed in Iraq right now. This helps me to stay connected to world that I know in the states. Thank you IMDb.I recommend this site to all my friends. Dolemite rules! Don't just take my word for it, check them out for yourself. Ten lines is a lot for commenting on one movie I think, but if it gets the point across, I'm all for it!  \n",
            "pos\t720\tthis film needs to be seen. the truest picture of what is going on in the world that I've seen since Darwin's Nightmare. Go see it! and If you're lucky enough to have it open in your city, be sure to see it on the big screen instead of DVD. The writing is sharp and the direction is good enough for the ideas to come through, though hardly perfect. Joan Cusack is amazing, and the rest of the cast is good too. It's inspiring that John Cusack got this movie made, and, I believe, he had to use some of his own money to do it. It's a wild, absurd ride, obviously made without the resources it needed, but still succeeds. Jon Stewart, Steven Colbert, SNL, even Bill Maher haven't shown the guts to say what this film says.  \n",
            "pos\t720\tBell Book and Candle was released in December 1958 and features James Stewart, Kim Novak, Jack Lemmon. and Ernie Kovaks. This film had James Stewart and Kim Novak in their second on-screen pairing (after the Alfred Hitchcock classic Vertigo, released earlier the same year). This was Stewart's last film as a romantic lead as he was deemed too old at age 50 to play that sort of part anymore. The movie is about a witch played by Kim Novak who is attracted to a mortal played by James Stewart. She puts a spell on him and he falls head over heels in love with her. I enjoyed the movie and its cast. This movie at the time was a moderate success which was nominated for a Golden Globe for best Movie Comedy. GimmeClassics  \n",
            "neg\t721\tI bought this movie for 1 euro, not knowing what it was all about. I thought \"hmmm, a movie named mutilation man must be if not very funny at least filled with gore\". It wasn't funny alright. It was disturbing. Very disturbing. And I don't mind disturbing movies but this one just didn't mean anything, except that child abuse is not a good thing to do. hmmm... The quality of the images were terrible. The acting...there was no acting. Just some fcked-up fcker mutilating himself for over 90 minutes. This is probably material for sicko's jurking off on extreme gore.<br /><br />Don't watch this. It's not worth your time. Its just awful. I wish i never bought this.<br /><br />They should mutilate the guy who made this  \n",
            "\n",
            "\n"
          ],
          "name": "stdout"
        }
      ]
    },
    {
      "cell_type": "markdown",
      "metadata": {
        "id": "d2QsZ5yN8iDi"
      },
      "source": [
        "### Train Loop Examples\n",
        "\n",
        "Now let's look at a model training loop woudl look like. I printed the first 10 batches list of examples lengths to show how nicely they are grouped throughout the dataset!\n",
        "\n",
        "We see that we get same exact behaviour as we did when using PyTorch Dataset. Now it depends on which way is easier for you to use PyTorchText BucketIterator: with PyTorch Dataset or with PyTorchText TabularDataset"
      ]
    },
    {
      "cell_type": "code",
      "metadata": {
        "id": "M9WOC2Xe0MQs",
        "outputId": "37a14a5f-104f-4aef-a889-30f5c78078a1",
        "colab": {
          "base_uri": "https://localhost:8080/"
        }
      },
      "source": [
        "# Example of number of epochs.\n",
        "epochs = 1\n",
        "\n",
        "# Example of loop through each epoch.\n",
        "for epoch in range(epochs):\n",
        "\n",
        "  # Create batches - needs to be called before each loop.\n",
        "  torchtext_train_dataloader.create_batches()\n",
        "\n",
        "  # Loop through BucketIterator.\n",
        "  for sample_id, batch in enumerate(torchtext_train_dataloader.batches):\n",
        "    # Put all example.text of batch in single array.\n",
        "    batch_text = [example.text for example in batch]\n",
        "\n",
        "    print('Batch exmaples lengths: %s'.ljust(20) % str([len(text) for text in batch_text]))\n",
        "\n",
        "    # Let's break early, you get the idea.\n",
        "    if sample_id == 10:\n",
        "      break"
      ],
      "execution_count": 76,
      "outputs": [
        {
          "output_type": "stream",
          "text": [
            "Batch exmaples lengths: [3705, 3748, 3759, 3791, 3811, 3918, 3936, 4044, 4102, 4113]\n",
            "Batch exmaples lengths: [1653, 1656, 1660, 1665, 1667, 1671, 1671, 1675, 1685, 1688]\n",
            "Batch exmaples lengths: [444, 445, 445, 453, 461, 461, 463, 466, 468, 471]\n",
            "Batch exmaples lengths: [979, 981, 981, 983, 983, 983, 985, 988, 989, 990]\n",
            "Batch exmaples lengths: [3270, 3282, 3282, 3300, 3354, 3359, 3377, 3381, 3408, 3488]\n",
            "Batch exmaples lengths: [2611, 2611, 2618, 2642, 2671, 2674, 2693, 2716, 2748, 2760]\n",
            "Batch exmaples lengths: [508, 509, 510, 516, 517, 518, 520, 523, 535, 536]\n",
            "Batch exmaples lengths: [1386, 1386, 1391, 1392, 1392, 1402, 1406, 1407, 1409, 1412]\n",
            "Batch exmaples lengths: [672, 673, 673, 673, 673, 673, 674, 674, 675, 676]\n",
            "Batch exmaples lengths: [302, 302, 303, 308, 309, 310, 313, 316, 318, 320]\n",
            "Batch exmaples lengths: [2473, 2481, 2543, 2553, 2565, 2580, 2581, 2582, 2586, 2608]\n"
          ],
          "name": "stdout"
        }
      ]
    },
    {
      "cell_type": "markdown",
      "metadata": {
        "id": "1YnDV4IQWF2v"
      },
      "source": [
        "## **Final Note**\n",
        "\n",
        "If you made it this far **Congrats!** 🎊 and **Thank you!** 🙏 for your interest in my tutorial!\n",
        "\n",
        "I've been using this code for a while now and I feel it got to a point where is nicely documented and easy to follow.\n",
        "\n",
        "Of course is easy for me to follow because I built it. That is why any feedback is welcome and it helps me improve my future tutorials!\n",
        "\n",
        "If you see something wrong please let me know by opening an issue on my [ml_things GitHub repository](https://github.com/gmihaila/ml_things/issues)!\n",
        "\n",
        "A lot of tutorials out there are mostly a one-time thing and are not being maintained. I plan on keeping my tutorials up to date as much as I can.\n",
        "\n",
        "## **Contact** 🎣\n",
        "\n",
        "🦊 GitHub: [gmihaila](https://github.com/gmihaila)\n",
        "\n",
        "🌐 Website: [gmihaila.github.io](https://gmihaila.github.io/)\n",
        "\n",
        "👔 LinkedIn: [mihailageorge](https://medium.com/r/?url=https%3A%2F%2Fwww.linkedin.com%2Fin%2Fmihailageorge)\n",
        "\n",
        "📬 Email: [georgemihaila@my.unt.edu.com](mailto:georgemihaila@my.unt.edu.com?subject=GitHub%20Website)"
      ]
    }
  ]
}